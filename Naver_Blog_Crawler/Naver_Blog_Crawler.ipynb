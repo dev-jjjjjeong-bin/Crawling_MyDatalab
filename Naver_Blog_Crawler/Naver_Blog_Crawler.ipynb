{
 "cells": [
  {
   "cell_type": "code",
   "execution_count": 64,
   "id": "7dc944aa",
   "metadata": {},
   "outputs": [],
   "source": [
    "import warnings\n",
    "warnings.filterwarnings(\"ignore\")\n",
    "from selenium import webdriver\n",
    "from webdriver_manager.chrome import ChromeDriverManager\n",
    "from selenium.webdriver.common.keys import Keys\n",
    "import time\n",
    "import pandas as pd\n",
    "import re"
   ]
  },
  {
   "cell_type": "code",
   "execution_count": 65,
   "id": "7a27250a",
   "metadata": {},
   "outputs": [
    {
     "name": "stderr",
     "output_type": "stream",
     "text": [
      "\n",
      "\n",
      "====== WebDriver manager ======\n",
      "Trying to download new driver from https://chromedriver.storage.googleapis.com/114.0.5735.16/chromedriver_win32.zip\n",
      "Driver has been saved in cache [C:\\Users\\0226p\\.wdm\\drivers\\chromedriver\\win32\\114.0.5735.16]\n"
     ]
    }
   ],
   "source": [
    "# 크롬 드라이버 사용 가능하도록 드라이버 설치 및 전체화면 설정\n",
    "driver = webdriver.Chrome(executable_path=ChromeDriverManager(version=\"114.0.5735.16\").install())\n",
    "driver.maximize_window()"
   ]
  },
  {
   "cell_type": "code",
   "execution_count": 66,
   "id": "e0394c36",
   "metadata": {},
   "outputs": [
    {
     "data": {
      "text/plain": [
       "['https://blog.naver.com/hw3731/221959099011',\n",
       " 'https://blog.naver.com/mentogonam/222001837025',\n",
       " 'https://blog.naver.com/ay54werh7/222198294666',\n",
       " 'https://blog.naver.com/nobrano/222467211788',\n",
       " 'https://blog.naver.com/anacondal/220611491507',\n",
       " 'https://blog.naver.com/career_bang/220761136292',\n",
       " 'https://blog.naver.com/dokgodie0220/222476259639',\n",
       " 'https://blog.naver.com/dju1980/223179987435',\n",
       " 'https://blog.naver.com/dreamgodream/223116337689',\n",
       " 'https://blog.naver.com/claykim999/223138970542',\n",
       " 'https://blog.naver.com/hoho_kjw/223136800239',\n",
       " 'https://blog.naver.com/nsandyk/223136508993',\n",
       " 'https://blog.naver.com/jobssuda/223134025308',\n",
       " 'https://blog.naver.com/nobrano/223140271245',\n",
       " 'https://blog.naver.com/dju1980/223138701024']"
      ]
     },
     "execution_count": 66,
     "metadata": {},
     "output_type": "execute_result"
    }
   ],
   "source": [
    "input_data = pd.read_csv('D:\\PJB\\MyDatalab\\Develop-Crawling\\Crawling_MyDatalab\\Input-data/Naver_Blog_Content_URL_list.csv')\n",
    "url = input_data['URL']\n",
    "url_val = url.values\n",
    "url_list = url_val.tolist()\n",
    "url_list"
   ]
  },
  {
   "cell_type": "code",
   "execution_count": 67,
   "id": "ed875186",
   "metadata": {},
   "outputs": [],
   "source": [
    "# # iframe 접근하여 프레임 이름 확인하기\n",
    "\n",
    "# iframes = driver.find_elements_by_css_selector('iframe')\n",
    "# for iframe in iframes:\n",
    "#     print(iframe.get_attribute('name'))   // mainFrame"
   ]
  },
  {
   "cell_type": "code",
   "execution_count": 70,
   "id": "e990dcb1",
   "metadata": {},
   "outputs": [
    {
     "data": {
      "text/plain": [
       "['자기소개서 학창시절,자소서 학교생활']"
      ]
     },
     "execution_count": 70,
     "metadata": {},
     "output_type": "execute_result"
    }
   ],
   "source": [
    "# # 제목 Test-1\n",
    "\n",
    "# title_list = []\n",
    "\n",
    "# for url in url_list[:1]:\n",
    "#     driver.get(url)\n",
    "#     time.sleep(1)\n",
    "#     driver.switch_to.frame('mainFrame')              \n",
    "#     title = driver.find_element_by_css_selector('.se-module.se-module-text.se-title-text')\n",
    "#     title_list.append(title.text)\n",
    "\n",
    "# title_list"
   ]
  },
  {
   "cell_type": "code",
   "execution_count": 69,
   "id": "ee129124",
   "metadata": {},
   "outputs": [
    {
     "data": {
      "text/plain": [
       "['자기소개서 학창시절,자소서 학교생활',\n",
       " '[짧은 답변] Q54. 나이는 많은데, 사회 경험은 별로 없다면 자소서를 어떤 식으로 써야 할까요?',\n",
       " '자소서 학창시절 작성 어렵다면 꼭 합격자소서 참고!',\n",
       " '자소서 학창시절 항목에 반드시 써야하는 이것?!',\n",
       " '인담자의 이목을 사로잡는 자소서 학창시절 작성법',\n",
       " '자소서학창시절 직무별 키포인트만 알면 문제없다',\n",
       " '자소서 학창시절 이렇게 쓰기. 합격을 위한 진짜 꿀팁',\n",
       " '2023학년도 직무중심 자기소개서 경진대회 참여 & 수상 후기',\n",
       " '[꿈날개 우수코칭사례]자기소개서 주요 문항별 작성 포인트!',\n",
       " '자기소개서 성장과정, 성격의 장단점 예시, 자소서 쓰는 법 공부',\n",
       " '[자기소개서] 취업 준비 실무 자기소개서 작성 꿀팁',\n",
       " '2023년 한국도로공사 (ex) 인턴 자기소개서 항목풀이',\n",
       " '이력서 자기소개서 핵심을 알면 올바른 작성방법이 보입니다.',\n",
       " '자기소개서 역량 쓰는TIP (공통역량/직무역량)',\n",
       " '직무중심 자기소개서 경진대회 참여 후기']"
      ]
     },
     "execution_count": 69,
     "metadata": {},
     "output_type": "execute_result"
    }
   ],
   "source": [
    "# 제목 Test-ALL\n",
    "\n",
    "title_list = []\n",
    "\n",
    "for url in url_list[:15]:\n",
    "    driver.get(url)\n",
    "    time.sleep(1)\n",
    "    driver.switch_to.frame('mainFrame')\n",
    "    try:\n",
    "        title = driver.find_element_by_css_selector('.se-module.se-module-text.se-title-text')\n",
    "        title_list.append(title.text)\n",
    "    except:\n",
    "        title = driver.find_element_by_css_selector('.pcol1')\n",
    "        title_list.append(title.text)\n",
    "        \n",
    "\n",
    "title_list"
   ]
  },
  {
   "cell_type": "code",
   "execution_count": 72,
   "id": "0c7f8eb7",
   "metadata": {},
   "outputs": [
    {
     "data": {
      "text/plain": [
       "['희원다움']"
      ]
     },
     "execution_count": 72,
     "metadata": {},
     "output_type": "execute_result"
    }
   ],
   "source": [
    "# # 게시자 Test-1\n",
    "\n",
    "# publisher_list = []\n",
    "\n",
    "# for url in url_list[:1]:\n",
    "#     driver.get(url)\n",
    "#     time.sleep(1)\n",
    "#     driver.switch_to.frame('mainFrame')\n",
    "#     publisher = driver.find_element_by_css_selector('.nick')\n",
    "#     publisher_list.append(publisher.text)\n",
    "\n",
    "# publisher_list"
   ]
  },
  {
   "cell_type": "code",
   "execution_count": 73,
   "id": "cd431fb0",
   "metadata": {},
   "outputs": [
    {
     "data": {
      "text/plain": [
       "['희원다움',\n",
       " '멘토 고남이',\n",
       " 'Limi',\n",
       " '허겁직업',\n",
       " '팩트폭력배',\n",
       " '즐겁구낭',\n",
       " '독고',\n",
       " '대전대학교',\n",
       " '꿈날개',\n",
       " '월천실현가',\n",
       " '인클라우드에듀',\n",
       " '젊다네',\n",
       " '잡s수다',\n",
       " '허겁직업',\n",
       " '대전대학교']"
      ]
     },
     "execution_count": 73,
     "metadata": {},
     "output_type": "execute_result"
    }
   ],
   "source": [
    "# 게시자 Test-ALL\n",
    "\n",
    "publisher_list = []\n",
    "\n",
    "for url in url_list[:15]:\n",
    "    driver.get(url)\n",
    "    time.sleep(1)\n",
    "    driver.switch_to.frame('mainFrame')\n",
    "    publisher = driver.find_element_by_css_selector('.nick')\n",
    "    publisher_list.append(publisher.text)\n",
    "\n",
    "publisher_list"
   ]
  },
  {
   "cell_type": "code",
   "execution_count": 74,
   "id": "68fa75af",
   "metadata": {},
   "outputs": [
    {
     "data": {
      "text/plain": [
       "['1,679']"
      ]
     },
     "execution_count": 74,
     "metadata": {},
     "output_type": "execute_result"
    }
   ],
   "source": [
    "# # 구독자 수 Test-1\n",
    "\n",
    "# subscriber_list = []\n",
    "\n",
    "# for url in url_list[:1]:\n",
    "#     driver.get(url)\n",
    "#     time.sleep(1)\n",
    "#     driver.switch_to.frame('mainFrame')\n",
    "#     driver.find_element_by_tag_name('html').send_keys(Keys.PAGE_DOWN)\n",
    "#     subscriber = driver.find_element_by_css_selector('#widget-stat > div > ul > li:nth-child(1) > em')\n",
    "#     subscriber_list.append(subscriber.text)\n",
    "\n",
    "\n",
    "# subscriber_list"
   ]
  },
  {
   "cell_type": "code",
   "execution_count": 80,
   "id": "c8b7b9bf",
   "metadata": {},
   "outputs": [
    {
     "data": {
      "text/plain": [
       "['1,679',\n",
       " '-',\n",
       " '246',\n",
       " '-',\n",
       " '-',\n",
       " '86',\n",
       " '-',\n",
       " '-',\n",
       " '-',\n",
       " '8,396',\n",
       " '-',\n",
       " '19,469',\n",
       " '-',\n",
       " '-',\n",
       " '-']"
      ]
     },
     "execution_count": 80,
     "metadata": {},
     "output_type": "execute_result"
    }
   ],
   "source": [
    "# 구독자 수 Test-ALL\n",
    "\n",
    "subscriber_list = []\n",
    "\n",
    "for url in url_list[:15]:\n",
    "    driver.get(url)\n",
    "    time.sleep(1)\n",
    "    driver.switch_to.frame('mainFrame')\n",
    "    try:\n",
    "        driver.find_element_by_tag_name('html').send_keys(Keys.PAGE_DOWN)\n",
    "        subscriber = driver.find_element_by_css_selector('#widget-stat > div > ul > li:nth-child(1) > em')\n",
    "        subscriber_list.append(subscriber.text)\n",
    "    except:\n",
    "        try:\n",
    "            driver.find_element_by_xpath('//*[@id=\"nc_frame1\"]/ul/li[2]/a').click()\n",
    "            subscriber = driver.find_element_by_css_selector('.numset')\n",
    "            subscriber_list.append(subscriber.text)    \n",
    "        except:\n",
    "            subscriber = '-'\n",
    "            subscriber_list.append(subscriber)\n",
    "\n",
    "subscriber_list"
   ]
  },
  {
   "cell_type": "code",
   "execution_count": 87,
   "id": "b60ce555",
   "metadata": {},
   "outputs": [
    {
     "data": {
      "text/plain": [
       "['2020. 5. 12. 18:36']"
      ]
     },
     "execution_count": 87,
     "metadata": {},
     "output_type": "execute_result"
    }
   ],
   "source": [
    "# # 게시일 Test-1\n",
    "\n",
    "# date_list = []\n",
    "\n",
    "# for url in url_list[:1]:\n",
    "#     driver.get(url)\n",
    "#     time.sleep(1)\n",
    "#     driver.switch_to.frame('mainFrame')\n",
    "#     date = driver.find_element_by_css_selector('.se_publishDate.pcol2')\n",
    "#     date_list.append(date.text)\n",
    "\n",
    "# date_list"
   ]
  },
  {
   "cell_type": "code",
   "execution_count": 91,
   "id": "2c2a2a76",
   "metadata": {},
   "outputs": [
    {
     "data": {
      "text/plain": [
       "['2020. 5. 12. 18:36',\n",
       " '2020. 6. 15. 21:58',\n",
       " '2021. 1. 6. 14:07',\n",
       " '2021. 8. 12. 16:42',\n",
       " '2016. 1. 28. 17:13',\n",
       " '2016. 7. 13. 15:12',\n",
       " '2021. 8. 19. 15:16',\n",
       " '2023. 8. 10. 13:18',\n",
       " '2023. 5. 31. 11:25',\n",
       " '2023. 6. 26. 12:42',\n",
       " '2023. 6. 23. 15:36',\n",
       " '2023. 6. 23. 9:12',\n",
       " '2023. 6. 20. 16:57',\n",
       " '2023. 6. 27. 17:06',\n",
       " '2023. 6. 26. 5:23']"
      ]
     },
     "execution_count": 91,
     "metadata": {},
     "output_type": "execute_result"
    }
   ],
   "source": [
    "# 게시일 Test-ALL\n",
    "\n",
    "date_list = []\n",
    "\n",
    "for url in url_list[:15]:\n",
    "    driver.get(url)\n",
    "    time.sleep(1)\n",
    "    driver.switch_to.frame('mainFrame')\n",
    "    \n",
    "    try:\n",
    "        date = driver.find_element_by_css_selector('.se_publishDate.pcol2')\n",
    "        date_list.append(date.text)\n",
    "    except:\n",
    "        date = driver.find_element_by_css_selector('.date.fil5.pcol2._postAddDate')\n",
    "        date_list.append(date.text)\n",
    "\n",
    "date_list"
   ]
  },
  {
   "cell_type": "code",
   "execution_count": 105,
   "id": "0418b33f",
   "metadata": {},
   "outputs": [
    {
     "data": {
      "text/plain": [
       "['']"
      ]
     },
     "execution_count": 105,
     "metadata": {},
     "output_type": "execute_result"
    }
   ],
   "source": [
    "# 좋아요 수 Test-1\n",
    "\n",
    "like_list = []\n",
    "\n",
    "for url in url_list[:1]:\n",
    "    driver.get(url)\n",
    "    time.sleep(1)\n",
    "    driver.switch_to.frame('mainFrame')\n",
    "    try: \n",
    "        driver.find_element_by_tag_name('body').send_keys(Keys.PAGE_DOWN)\n",
    "        time.sleep(5)\n",
    "        like = driver.find_element_by_css_selector('.u_cnt._count')\n",
    "        like_list.append(like.text)\n",
    "    except:\n",
    "        like = '-'\n",
    "        like_list.append(like)\n",
    "    \n",
    "like_list"
   ]
  }
 ],
 "metadata": {
  "kernelspec": {
   "display_name": "Python 3 (ipykernel)",
   "language": "python",
   "name": "python3"
  },
  "language_info": {
   "codemirror_mode": {
    "name": "ipython",
    "version": 3
   },
   "file_extension": ".py",
   "mimetype": "text/x-python",
   "name": "python",
   "nbconvert_exporter": "python",
   "pygments_lexer": "ipython3",
   "version": "3.10.9"
  }
 },
 "nbformat": 4,
 "nbformat_minor": 5
}
