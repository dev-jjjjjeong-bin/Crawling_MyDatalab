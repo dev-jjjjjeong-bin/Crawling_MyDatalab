{
 "cells": [
  {
   "cell_type": "code",
   "execution_count": 4,
   "id": "7dc944aa",
   "metadata": {},
   "outputs": [],
   "source": [
    "import warnings\n",
    "warnings.filterwarnings(\"ignore\")\n",
    "from selenium import webdriver\n",
    "from webdriver_manager.chrome import ChromeDriverManager\n",
    "import time\n",
    "import pandas as pd"
   ]
  },
  {
   "cell_type": "code",
   "execution_count": 5,
   "id": "7a27250a",
   "metadata": {},
   "outputs": [],
   "source": [
    "# 크롬 드라이버 버전이 수시로 업데이트되는 관계로 드라이버 설치하여 사용\n",
    "driver = webdriver.Chrome('D:/PJB/MyDatalab/Develop-Crawling/Crawling_MyDatalab/chromedriver.exe')\n",
    "driver.maximize_window()"
   ]
  },
  {
   "cell_type": "code",
   "execution_count": 6,
   "id": "e0394c36",
   "metadata": {},
   "outputs": [
    {
     "data": {
      "text/plain": [
       "['https://blog.naver.com/hw3731/221959099011',\n",
       " 'https://blog.naver.com/mentogonam/222001837025',\n",
       " 'https://blog.naver.com/ay54werh7/222198294666',\n",
       " 'https://blog.naver.com/nobrano/222467211788',\n",
       " 'https://blog.naver.com/anacondal/220611491507',\n",
       " 'https://blog.naver.com/career_bang/220761136292',\n",
       " 'https://blog.naver.com/dokgodie0220/222476259639',\n",
       " 'https://blog.naver.com/dju1980/223179987435',\n",
       " 'https://blog.naver.com/dreamgodream/223116337689',\n",
       " 'https://blog.naver.com/claykim999/223138970542',\n",
       " 'https://blog.naver.com/hoho_kjw/223136800239',\n",
       " 'https://blog.naver.com/nsandyk/223136508993',\n",
       " 'https://blog.naver.com/jobssuda/223134025308',\n",
       " 'https://blog.naver.com/nobrano/223140271245',\n",
       " 'https://blog.naver.com/dju1980/223138701024']"
      ]
     },
     "execution_count": 6,
     "metadata": {},
     "output_type": "execute_result"
    }
   ],
   "source": [
    "input_data = pd.read_csv('D:/PJB/MyDatalab/Develop-Crawling/Crawling_MyDatalab/Input-data/Naver_Blog_Content_URL_list.csv')\n",
    "url = input_data['URL']\n",
    "url_val = url.values\n",
    "url_list = url_val.tolist()\n",
    "url_list"
   ]
  },
  {
   "cell_type": "code",
   "execution_count": 67,
   "id": "ed875186",
   "metadata": {},
   "outputs": [],
   "source": [
    "# # iframe 접근하여 프레임 이름 확인하기\n",
    "\n",
    "# iframes = driver.find_elements_by_css_selector('iframe')\n",
    "# for iframe in iframes:\n",
    "#     print(iframe.get_attribute('name'))   // mainFrame"
   ]
  },
  {
   "cell_type": "code",
   "execution_count": 70,
   "id": "e990dcb1",
   "metadata": {},
   "outputs": [
    {
     "data": {
      "text/plain": [
       "['자기소개서 학창시절,자소서 학교생활']"
      ]
     },
     "execution_count": 70,
     "metadata": {},
     "output_type": "execute_result"
    }
   ],
   "source": [
    "# # 제목 Test-1\n",
    "\n",
    "# title_list = []\n",
    "\n",
    "# for url in url_list[:1]:\n",
    "#     driver.get(url)\n",
    "#     driver.switch_to.frame('mainFrame')              \n",
    "#     title = driver.find_element_by_css_selector('.se-module.se-module-text.se-title-text')\n",
    "#     title_list.append(title.text)\n",
    "\n",
    "# title_list"
   ]
  },
  {
   "cell_type": "code",
   "execution_count": 69,
   "id": "ee129124",
   "metadata": {},
   "outputs": [
    {
     "data": {
      "text/plain": [
       "['자기소개서 학창시절,자소서 학교생활',\n",
       " '[짧은 답변] Q54. 나이는 많은데, 사회 경험은 별로 없다면 자소서를 어떤 식으로 써야 할까요?',\n",
       " '자소서 학창시절 작성 어렵다면 꼭 합격자소서 참고!',\n",
       " '자소서 학창시절 항목에 반드시 써야하는 이것?!',\n",
       " '인담자의 이목을 사로잡는 자소서 학창시절 작성법',\n",
       " '자소서학창시절 직무별 키포인트만 알면 문제없다',\n",
       " '자소서 학창시절 이렇게 쓰기. 합격을 위한 진짜 꿀팁',\n",
       " '2023학년도 직무중심 자기소개서 경진대회 참여 & 수상 후기',\n",
       " '[꿈날개 우수코칭사례]자기소개서 주요 문항별 작성 포인트!',\n",
       " '자기소개서 성장과정, 성격의 장단점 예시, 자소서 쓰는 법 공부',\n",
       " '[자기소개서] 취업 준비 실무 자기소개서 작성 꿀팁',\n",
       " '2023년 한국도로공사 (ex) 인턴 자기소개서 항목풀이',\n",
       " '이력서 자기소개서 핵심을 알면 올바른 작성방법이 보입니다.',\n",
       " '자기소개서 역량 쓰는TIP (공통역량/직무역량)',\n",
       " '직무중심 자기소개서 경진대회 참여 후기']"
      ]
     },
     "execution_count": 69,
     "metadata": {},
     "output_type": "execute_result"
    }
   ],
   "source": [
    "# 제목 Test-ALL\n",
    "\n",
    "title_list = []\n",
    "\n",
    "for url in url_list[:15]:\n",
    "    driver.get(url)\n",
    "    driver.switch_to.frame('mainFrame')\n",
    "    try:\n",
    "        title = driver.find_element_by_css_selector('.se-module.se-module-text.se-title-text')\n",
    "    except:\n",
    "        title = driver.find_element_by_css_selector('.pcol1')\n",
    "    title_list.append(title.text)\n",
    "        \n",
    "\n",
    "title_list"
   ]
  },
  {
   "cell_type": "code",
   "execution_count": 72,
   "id": "0c7f8eb7",
   "metadata": {},
   "outputs": [
    {
     "data": {
      "text/plain": [
       "['희원다움']"
      ]
     },
     "execution_count": 72,
     "metadata": {},
     "output_type": "execute_result"
    }
   ],
   "source": [
    "# # 게시자 Test-1\n",
    "\n",
    "# publisher_list = []\n",
    "\n",
    "# for url in url_list[:1]:\n",
    "#     driver.get(url)\n",
    "#     driver.switch_to.frame('mainFrame')\n",
    "#     publisher = driver.find_element_by_css_selector('.nick')\n",
    "#     publisher_list.append(publisher.text)\n",
    "\n",
    "# publisher_list"
   ]
  },
  {
   "cell_type": "code",
   "execution_count": 70,
   "id": "cd431fb0",
   "metadata": {},
   "outputs": [
    {
     "data": {
      "text/plain": [
       "['희원다움',\n",
       " '멘토 고남이',\n",
       " 'Limi',\n",
       " '허겁직업',\n",
       " '팩트폭력배',\n",
       " '즐겁구낭',\n",
       " '독고',\n",
       " '대전대학교',\n",
       " '꿈날개',\n",
       " '월천실현가',\n",
       " '인클라우드에듀',\n",
       " '젊다네',\n",
       " '잡s수다',\n",
       " '허겁직업',\n",
       " '대전대학교']"
      ]
     },
     "execution_count": 70,
     "metadata": {},
     "output_type": "execute_result"
    }
   ],
   "source": [
    "# 게시자 Test-ALL\n",
    "\n",
    "publisher_list = []\n",
    "\n",
    "for url in url_list[:15]:\n",
    "    driver.get(url)\n",
    "    driver.switch_to.frame('mainFrame')\n",
    "    publisher = driver.find_element_by_css_selector('.nick')\n",
    "    publisher_list.append(publisher.text)\n",
    "\n",
    "publisher_list"
   ]
  },
  {
   "cell_type": "code",
   "execution_count": 87,
   "id": "b60ce555",
   "metadata": {},
   "outputs": [
    {
     "data": {
      "text/plain": [
       "['2020. 5. 12. 18:36']"
      ]
     },
     "execution_count": 87,
     "metadata": {},
     "output_type": "execute_result"
    }
   ],
   "source": [
    "# # 게시일 Test-1\n",
    "\n",
    "# date_list = []\n",
    "\n",
    "# for url in url_list[:1]:\n",
    "#     driver.get(url)\n",
    "#     driver.switch_to.frame('mainFrame')\n",
    "#     date = driver.find_element_by_css_selector('.se_publishDate.pcol2')\n",
    "#     date_list.append(date.text)\n",
    "\n",
    "# date_list"
   ]
  },
  {
   "cell_type": "code",
   "execution_count": 71,
   "id": "2c2a2a76",
   "metadata": {},
   "outputs": [
    {
     "data": {
      "text/plain": [
       "['2020. 5. 12. 18:36',\n",
       " '2020. 6. 15. 21:58',\n",
       " '2021. 1. 6. 14:07',\n",
       " '2021. 8. 12. 16:42',\n",
       " '2016. 1. 28. 17:13',\n",
       " '2016. 7. 13. 15:12',\n",
       " '2021. 8. 19. 15:16',\n",
       " '2023. 8. 10. 13:18',\n",
       " '2023. 5. 31. 11:25',\n",
       " '2023. 6. 26. 12:42',\n",
       " '2023. 6. 23. 15:36',\n",
       " '2023. 6. 23. 9:12',\n",
       " '2023. 6. 20. 16:57',\n",
       " '2023. 6. 27. 17:06',\n",
       " '2023. 6. 26. 5:23']"
      ]
     },
     "execution_count": 71,
     "metadata": {},
     "output_type": "execute_result"
    }
   ],
   "source": [
    "# 게시일 Test-ALL\n",
    "\n",
    "date_list = []\n",
    "\n",
    "for url in url_list[:15]:\n",
    "    driver.get(url)\n",
    "    driver.switch_to.frame('mainFrame')\n",
    "    try:\n",
    "        date = driver.find_element_by_css_selector('.se_publishDate.pcol2')\n",
    "    except:\n",
    "        date = driver.find_element_by_css_selector('.date.fil5.pcol2._postAddDate')\n",
    "    date_list.append(date.text)\n",
    "\n",
    "date_list"
   ]
  },
  {
   "cell_type": "code",
   "execution_count": 7,
   "id": "68fa75af",
   "metadata": {},
   "outputs": [
    {
     "data": {
      "text/plain": [
       "['1,685']"
      ]
     },
     "execution_count": 7,
     "metadata": {},
     "output_type": "execute_result"
    }
   ],
   "source": [
    "# # '활동정보' 속 이웃 수 추출 Test-1\n",
    "\n",
    "# neighbor_list = []\n",
    "\n",
    "# for url in url_list[:1]:\n",
    "#     driver.get(url)\n",
    "#     driver.switch_to.frame('mainFrame')\n",
    "#     neighbor = driver.find_element_by_css_selector('#widget-stat > div > ul > li:nth-child(1) > em')\n",
    "#     neighbor_list.append(neighbor.text)\n",
    "\n",
    "\n",
    "# neighbor_list"
   ]
  },
  {
   "cell_type": "code",
   "execution_count": 8,
   "id": "878d44ef",
   "metadata": {},
   "outputs": [
    {
     "data": {
      "text/plain": [
       "['126']"
      ]
     },
     "execution_count": 8,
     "metadata": {},
     "output_type": "execute_result"
    }
   ],
   "source": [
    "# # '나를 추가한' 클릭 후 이웃 수 추출 Test-1\n",
    "\n",
    "# neighbor_list = []\n",
    "\n",
    "# driver.get('https://blog.naver.com/anacondal/220611491507')\n",
    "# driver.switch_to.frame('mainFrame')\n",
    "# try:\n",
    "#     driver.switch_to.frame('BuddyConnectIframe')\n",
    "#     driver.find_element_by_xpath('//*[@id=\"nc_frame1\"]/ul/li[2]/a').click()\n",
    "#     time.sleep(1)\n",
    "#     neighbor = driver.find_element_by_css_selector('#nc_frame1 > div.wrap.bg_main > div.content.bg_main.tab2 > div.buddy_cnt > p > strong')\n",
    "#     neighbor_list.append(neighbor.text)\n",
    "# except:\n",
    "#     neighbor_list.append('-')\n",
    "        \n",
    "# neighbor_list"
   ]
  },
  {
   "cell_type": "code",
   "execution_count": 9,
   "id": "c8b7b9bf",
   "metadata": {},
   "outputs": [
    {
     "data": {
      "text/plain": [
       "['1,685',\n",
       " '-',\n",
       " '247',\n",
       " '-',\n",
       " '126',\n",
       " '86',\n",
       " '46',\n",
       " '-',\n",
       " '-',\n",
       " '8,458',\n",
       " '-',\n",
       " '19,462',\n",
       " '1663',\n",
       " '-',\n",
       " '-']"
      ]
     },
     "execution_count": 9,
     "metadata": {},
     "output_type": "execute_result"
    }
   ],
   "source": [
    "# 이웃 수 Test-ALL\n",
    "\n",
    "neighbor_list = []\n",
    "\n",
    "for url in url_list[:15]:\n",
    "    driver.get(url)\n",
    "    driver.switch_to.frame('mainFrame')\n",
    "    try:\n",
    "        neighbor = driver.find_element_by_css_selector('#widget-stat > div > ul > li:nth-child(1) > em')\n",
    "        neighbor_list.append(neighbor.text)\n",
    "    except:\n",
    "        try:\n",
    "            driver.switch_to.frame('BuddyConnectIframe')\n",
    "            driver.find_element_by_xpath('//*[@id=\"nc_frame1\"]/ul/li[2]/a').click()\n",
    "            time.sleep(1)\n",
    "            neighbor = driver.find_element_by_css_selector('#nc_frame1 > div.wrap.bg_main > div.content.bg_main.tab2 > div.buddy_cnt > p > strong')\n",
    "            neighbor_list.append(neighbor.text)\n",
    "        except:\n",
    "            neighbor_list.append('-')\n",
    "\n",
    "neighbor_list"
   ]
  },
  {
   "cell_type": "code",
   "execution_count": 99,
   "id": "0418b33f",
   "metadata": {},
   "outputs": [
    {
     "data": {
      "text/plain": [
       "['17']"
      ]
     },
     "execution_count": 99,
     "metadata": {},
     "output_type": "execute_result"
    }
   ],
   "source": [
    "# # 좋아요 수 Test-1\n",
    "\n",
    "# like_list = []\n",
    "\n",
    "# for url in url_list[:1]:\n",
    "#     driver.get(url)\n",
    "#     driver.switch_to.frame('mainFrame')\n",
    "#     try:\n",
    "#         like = driver.find_element_by_css_selector('#floating_bottom > div > div > div.area_sympathy > a > div > span > em.u_cnt._count')\n",
    "#         like_list.append(like.text)\n",
    "#     except:\n",
    "#         like_list.append('-')\n",
    "    \n",
    "# like_list"
   ]
  },
  {
   "cell_type": "code",
   "execution_count": 16,
   "id": "c908ee69",
   "metadata": {},
   "outputs": [
    {
     "data": {
      "text/plain": [
       "['17',\n",
       " '3',\n",
       " '0',\n",
       " '-',\n",
       " '1',\n",
       " '-',\n",
       " '-',\n",
       " '-',\n",
       " '11',\n",
       " '71',\n",
       " '3',\n",
       " '10',\n",
       " '27',\n",
       " '-',\n",
       " '-']"
      ]
     },
     "execution_count": 16,
     "metadata": {},
     "output_type": "execute_result"
    }
   ],
   "source": [
    "# 좋아요 수 Test-ALL\n",
    "\n",
    "like_list = []\n",
    "\n",
    "for url in url_list[:15]:\n",
    "    driver.get(url)\n",
    "    driver.switch_to.frame('mainFrame')\n",
    "    try:\n",
    "        like = driver.find_element_by_css_selector('#floating_bottom > div > div > div.area_sympathy > a > div > span > em.u_cnt._count')\n",
    "        if like.text == '':\n",
    "            like_list.append('0')\n",
    "        else:\n",
    "            like_list.append(like.text)\n",
    "    except:\n",
    "        like_list.append('-')\n",
    "    \n",
    "like_list"
   ]
  },
  {
   "cell_type": "code",
   "execution_count": 103,
   "id": "d0de0906",
   "metadata": {},
   "outputs": [
    {
     "data": {
      "text/plain": [
       "['1']"
      ]
     },
     "execution_count": 103,
     "metadata": {},
     "output_type": "execute_result"
    }
   ],
   "source": [
    "# # 댓글 수 Test-1\n",
    "\n",
    "# comment_list = []\n",
    "\n",
    "# for url in url_list[:1]:\n",
    "#     driver.get(url)\n",
    "#     driver.switch_to.frame('mainFrame')\n",
    "#     try:\n",
    "#         comment = driver.find_element_by_css_selector('#commentCount')\n",
    "#         comment_list.append(comment.text)\n",
    "#     except:\n",
    "#         comment_list.append('-')\n",
    "    \n",
    "# comment_list"
   ]
  },
  {
   "cell_type": "code",
   "execution_count": 17,
   "id": "e55e3c4d",
   "metadata": {},
   "outputs": [
    {
     "data": {
      "text/plain": [
       "['1', '2', '0', '0', '0', '0', '0', '0', '2', '7', '0', '2', '1', '1', '1']"
      ]
     },
     "execution_count": 17,
     "metadata": {},
     "output_type": "execute_result"
    }
   ],
   "source": [
    "# 댓글 수 Test-ALL\n",
    "\n",
    "comment_list = []\n",
    "\n",
    "for url in url_list[:15]:\n",
    "    driver.get(url)\n",
    "    driver.switch_to.frame('mainFrame')\n",
    "    try:\n",
    "        comment = driver.find_element_by_css_selector('#commentCount')\n",
    "        if comment.text == '':\n",
    "            comment_list.append('0')\n",
    "        else:\n",
    "            comment_list.append(comment.text)\n",
    "    except:\n",
    "        comment_list.append('-')\n",
    "    \n",
    "comment_list"
   ]
  }
 ],
 "metadata": {
  "kernelspec": {
   "display_name": "Python 3 (ipykernel)",
   "language": "python",
   "name": "python3"
  },
  "language_info": {
   "codemirror_mode": {
    "name": "ipython",
    "version": 3
   },
   "file_extension": ".py",
   "mimetype": "text/x-python",
   "name": "python",
   "nbconvert_exporter": "python",
   "pygments_lexer": "ipython3",
   "version": "3.10.9"
  }
 },
 "nbformat": 4,
 "nbformat_minor": 5
}
