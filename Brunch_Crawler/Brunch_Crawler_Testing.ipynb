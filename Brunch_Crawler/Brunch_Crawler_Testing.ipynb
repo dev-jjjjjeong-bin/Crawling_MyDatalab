{
 "cells": [
  {
   "cell_type": "code",
   "execution_count": 130,
   "id": "7dc944aa",
   "metadata": {},
   "outputs": [],
   "source": [
    "import warnings\n",
    "warnings.filterwarnings(\"ignore\")\n",
    "from selenium import webdriver\n",
    "from webdriver_manager.chrome import ChromeDriverManager\n",
    "import time\n",
    "import pandas as pd"
   ]
  },
  {
   "cell_type": "code",
   "execution_count": 131,
   "id": "c6b84df7",
   "metadata": {},
   "outputs": [],
   "source": [
    "# 크롬 드라이버 버전이 수시로 업데이트되는 관계로 드라이버 설치하여 사용\n",
    "driver = webdriver.Chrome('D:/PJB/MyDatalab/Develop-Crawling/Crawling_MyDatalab/chromedriver.exe')\n",
    "driver.maximize_window()"
   ]
  },
  {
   "cell_type": "code",
   "execution_count": 135,
   "id": "e0394c36",
   "metadata": {},
   "outputs": [
    {
     "data": {
      "text/plain": [
       "['https://brunch.co.kr/@parisboys/196',\n",
       " 'https://brunch.co.kr/@myjun160514/14',\n",
       " 'https://brunch.co.kr/@clearthinking/495',\n",
       " 'https://brunch.co.kr/@leeran929/35',\n",
       " 'https://brunch.co.kr/@idoleeeeee/9',\n",
       " 'https://brunch.co.kr/@mingzi93/130',\n",
       " 'https://brunch.co.kr/@mail0/105',\n",
       " 'https://brunch.co.kr/@idoleeeeee/8',\n",
       " 'https://brunch.co.kr/@mingzi93/128',\n",
       " 'https://brunch.co.kr/@f82919024e1a447/785',\n",
       " 'https://brunch.co.kr/@sjraintree/163',\n",
       " 'https://brunch.co.kr/@8309fa1ab38b45a/18',\n",
       " 'https://brunch.co.kr/@ysb8460/120',\n",
       " 'https://brunch.co.kr/@3f909cf4e264431/3',\n",
       " 'https://brunch.co.kr/@supportship/82']"
      ]
     },
     "execution_count": 135,
     "metadata": {},
     "output_type": "execute_result"
    }
   ],
   "source": [
    "# Brunch URL List(확장자: .csv) 읽어오기 \n",
    "# 환경에 맞게 경로 변경 필요\n",
    "input_data = pd.read_csv('D:/PJB/MyDatalab/Develop-Crawling/Crawling_MyDatalab/Input-data/Brunch_Content_URL_list.csv')\n",
    "url = input_data['URL']\n",
    "url_list = url.values.tolist()\n",
    "url_list"
   ]
  },
  {
   "cell_type": "code",
   "execution_count": 85,
   "id": "e990dcb1",
   "metadata": {},
   "outputs": [
    {
     "data": {
      "text/plain": [
       "['유튜브 자기소개서 4번째 지원자는 인턴에 합격하였습니다']"
      ]
     },
     "execution_count": 85,
     "metadata": {},
     "output_type": "execute_result"
    }
   ],
   "source": [
    "# # 제목 Test-1\n",
    "\n",
    "# title_list = []\n",
    "\n",
    "# for url in url_list[:1]:\n",
    "#     driver.get(url)             \n",
    "#     title = driver.find_element_by_css_selector('body > div.service_contents.article_contents.\\#post_view > div.wrap_view_article.wrap_article.article_view_disable_selection > div.wrap_cover > div > div.cover_cell.cover_direction_left > h1')\n",
    "#     title_list.append(title.text)\n",
    "\n",
    "# title_list"
   ]
  },
  {
   "cell_type": "code",
   "execution_count": 87,
   "id": "79808adf",
   "metadata": {},
   "outputs": [
    {
     "data": {
      "text/plain": [
       "['란의 글쓰기 노트 19']"
      ]
     },
     "execution_count": 87,
     "metadata": {},
     "output_type": "execute_result"
    }
   ],
   "source": [
    "# # 제목 Test-2\n",
    "\n",
    "# title_list = []\n",
    "\n",
    "# driver.get('https://brunch.co.kr/@leeran929/35')\n",
    "\n",
    "# title = driver.find_element_by_css_selector('body > div.service_contents.article_contents.\\#post_view > div.wrap_view_article.wrap_article.article_view_disable_selection > div.wrap_cover.cover_type_text > div > div.cover_cell.cover_direction_center > h1')\n",
    "# title_list.append(title.text)\n",
    "        \n",
    "# title_list"
   ]
  },
  {
   "cell_type": "code",
   "execution_count": 97,
   "id": "090e8c2b",
   "metadata": {},
   "outputs": [
    {
     "data": {
      "text/plain": [
       "['0. 자기소개서 쓰기는 사실 재밌습니다.']"
      ]
     },
     "execution_count": 97,
     "metadata": {},
     "output_type": "execute_result"
    }
   ],
   "source": [
    "# # 제목 Test-3\n",
    "\n",
    "# title_list = []\n",
    "\n",
    "# driver.get('https://brunch.co.kr/@idoleeeeee/9')\n",
    "\n",
    "# title = driver.find_element_by_css_selector('body > div.service_contents.article_contents.\\#post_view > div.wrap_view_article.wrap_article.article_view_disable_selection > div.wrap_cover > div > div.cover_cell.cover_direction_center > h1')\n",
    "# title_list.append(title.text)\n",
    "        \n",
    "# title_list"
   ]
  },
  {
   "cell_type": "code",
   "execution_count": 98,
   "id": "ee129124",
   "metadata": {},
   "outputs": [
    {
     "data": {
      "text/plain": [
       "['유튜브 자기소개서 4번째 지원자는 인턴에 합격하였습니다',\n",
       " '좋은 이력서, 자기소개서 작성하는 방법',\n",
       " 'SK온 2023년 상반기 수시 채용과 자기소개서 작성',\n",
       " '란의 글쓰기 노트 19',\n",
       " '0. 자기소개서 쓰기는 사실 재밌습니다.',\n",
       " '챗GPT로 자기소개서 쓰면 X되는 이유',\n",
       " '자기소개서는 미리 쓰고, 자주 수정해야 한다',\n",
       " '2. 자기소개서는 면접까지 가기 위한 수단입니다.',\n",
       " '자기소개서 하나로 연봉 1,000만 원 올리는 방법',\n",
       " '33번째 기업 자기소개서 수정',\n",
       " '자기소개서 쓰는 법',\n",
       " '자기소개서 문항별 작성법\\n(나의 장, 단점)',\n",
       " '이력서와 자기소개서 작성의 필수요소',\n",
       " '자기소개서 작성 순서',\n",
       " '차별화된 자기소개서']"
      ]
     },
     "execution_count": 98,
     "metadata": {},
     "output_type": "execute_result"
    }
   ],
   "source": [
    "# 제목 Test-ALL\n",
    "\n",
    "title_list = []\n",
    "\n",
    "for url in url_list[:15]:\n",
    "    driver.get(url)\n",
    "    try:\n",
    "        title = driver.find_element_by_css_selector('body > div.service_contents.article_contents.\\#post_view > div.wrap_view_article.wrap_article.article_view_disable_selection > div.wrap_cover > div > div.cover_cell.cover_direction_left > h1')\n",
    "    except:\n",
    "        try:\n",
    "            title = driver.find_element_by_css_selector('body > div.service_contents.article_contents.\\#post_view > div.wrap_view_article.wrap_article.article_view_disable_selection > div.wrap_cover.cover_type_text > div > div.cover_cell.cover_direction_center > h1')\n",
    "        except:\n",
    "            title = driver.find_element_by_css_selector('body > div.service_contents.article_contents.\\#post_view > div.wrap_view_article.wrap_article.article_view_disable_selection > div.wrap_cover > div > div.cover_cell.cover_direction_center > h1')\n",
    "    title_list.append(title.text)\n",
    "        \n",
    "title_list"
   ]
  },
  {
   "cell_type": "code",
   "execution_count": 99,
   "id": "0c7f8eb7",
   "metadata": {},
   "outputs": [
    {
     "data": {
      "text/plain": [
       "['상업용 부동산 글을 쓰는 민성식입니다']"
      ]
     },
     "execution_count": 99,
     "metadata": {},
     "output_type": "execute_result"
    }
   ],
   "source": [
    "# # 게시자 Test-1\n",
    "\n",
    "# publisher_list = []\n",
    "\n",
    "# for url in url_list[:1]:\n",
    "#     driver.get(url)\n",
    "#     publisher = driver.find_element_by_css_selector('#wrapArticleInfo > span.f_l.text_author.\\#author > a')\n",
    "#     publisher_list.append(publisher.text)\n",
    "\n",
    "# publisher_list"
   ]
  },
  {
   "cell_type": "code",
   "execution_count": 100,
   "id": "cd431fb0",
   "metadata": {},
   "outputs": [
    {
     "data": {
      "text/plain": [
       "['상업용 부동산 글을 쓰는 민성식입니다',\n",
       " '마이준',\n",
       " '브레인튜너',\n",
       " '이란',\n",
       " '아이돌리',\n",
       " '남현우 대표',\n",
       " '임용',\n",
       " '아이돌리',\n",
       " '남현우 대표',\n",
       " '하얀 얼굴 학생',\n",
       " '손정 강사 작가',\n",
       " '최지우',\n",
       " '윤승범',\n",
       " '문설의 첨삭연구소',\n",
       " 'Ohgooni']"
      ]
     },
     "execution_count": 100,
     "metadata": {},
     "output_type": "execute_result"
    }
   ],
   "source": [
    "# 게시자 Test-ALL\n",
    "\n",
    "publisher_list = []\n",
    "\n",
    "for url in url_list[:15]:\n",
    "    driver.get(url)\n",
    "    publisher = driver.find_element_by_css_selector('#wrapArticleInfo > span.f_l.text_author.\\#author > a')\n",
    "    publisher_list.append(publisher.text)\n",
    "\n",
    "publisher_list"
   ]
  },
  {
   "cell_type": "code",
   "execution_count": 115,
   "id": "68fa75af",
   "metadata": {},
   "outputs": [
    {
     "data": {
      "text/plain": [
       "['1,057']"
      ]
     },
     "execution_count": 115,
     "metadata": {},
     "output_type": "execute_result"
    }
   ],
   "source": [
    "# # '구독자 수 Test-1\n",
    "\n",
    "# subscriber_list = []\n",
    "\n",
    "# for url in url_list[:1]:\n",
    "#     driver.get(url)\n",
    "#     driver.find_element_by_xpath('//*[@id=\"wrapArticleInfo\"]/span[2]/a').click()\n",
    "#     time.sleep(1)\n",
    "#     subscriber = driver.find_element_by_css_selector('#wrapHome > header > div.wrap_profile > div.wrap_profile_desc > dl > dd:nth-child(2) > a > span')\n",
    "#     subscriber_list.append(subscriber.text)\n",
    "\n",
    "# subscriber_list"
   ]
  },
  {
   "cell_type": "code",
   "execution_count": 116,
   "id": "c8b7b9bf",
   "metadata": {},
   "outputs": [
    {
     "data": {
      "text/plain": [
       "['1,057',\n",
       " '3',\n",
       " '164',\n",
       " '7',\n",
       " '16',\n",
       " '149',\n",
       " '193',\n",
       " '16',\n",
       " '149',\n",
       " '57',\n",
       " '131',\n",
       " '33',\n",
       " '77',\n",
       " '1',\n",
       " '74']"
      ]
     },
     "execution_count": 116,
     "metadata": {},
     "output_type": "execute_result"
    }
   ],
   "source": [
    "# 구독자 수 Test-ALL\n",
    "\n",
    "subscriber_list = []\n",
    "\n",
    "for url in url_list[:15]:\n",
    "    driver.get(url)\n",
    "    driver.find_element_by_xpath('//*[@id=\"wrapArticleInfo\"]/span[2]/a').click()\n",
    "    time.sleep(1)\n",
    "    subscriber = driver.find_element_by_css_selector('#wrapHome > header > div.wrap_profile > div.wrap_profile_desc > dl > dd:nth-child(2) > a > span')\n",
    "    subscriber_list.append(subscriber.text)\n",
    "\n",
    "subscriber_list"
   ]
  },
  {
   "cell_type": "code",
   "execution_count": 133,
   "id": "b60ce555",
   "metadata": {},
   "outputs": [
    {
     "data": {
      "text/plain": [
       "['2020.09.17']"
      ]
     },
     "execution_count": 133,
     "metadata": {},
     "output_type": "execute_result"
    }
   ],
   "source": [
    "# # 게시일 Test-1\n",
    "\n",
    "# date_list = []\n",
    "\n",
    "# for url in url_list[:1]:\n",
    "#     driver.get(url)\n",
    "#     date = driver.find_element_by_css_selector('#wrapArticleInfo > span.f_l.date')\n",
    "#     month = date.text.split()[0]\n",
    "#     if  month == 'Jan':\n",
    "#         month = '01.'\n",
    "#     elif month == 'Feb':\n",
    "#         month = '02.'\n",
    "#     elif month == 'Mar':\n",
    "#         month = '03.'\n",
    "#     elif month == 'Apr':\n",
    "#         month = '04.'\n",
    "#     elif month == 'May':\n",
    "#         month = '05.'\n",
    "#     elif month == 'Jun':\n",
    "#         month = '06.'\n",
    "#     elif month == 'July':\n",
    "#         month = '07.'\n",
    "#     elif month == 'Aug':\n",
    "#         month = '08.'\n",
    "#     elif month == 'Sep':\n",
    "#         month = '09.'\n",
    "#     elif month == 'Oct':\n",
    "#         month = '10.'\n",
    "#     elif month == 'Nov':\n",
    "#         month = '11.'\n",
    "#     else:\n",
    "#         month = '12.'\n",
    "#     yymmdd = date.text.split()[2] + '.' + month + date.text.split()[1]\n",
    "#     date_list.append(yymmdd.rstrip('.'))\n",
    "\n",
    "# date_list"
   ]
  },
  {
   "cell_type": "code",
   "execution_count": 134,
   "id": "2c2a2a76",
   "metadata": {},
   "outputs": [
    {
     "data": {
      "text/plain": [
       "['2020.09.17',\n",
       " '2023.04.04',\n",
       " '2023.05.31',\n",
       " '2023.06.25',\n",
       " '2023.03.25',\n",
       " '2023.03.23',\n",
       " '2023.04.28',\n",
       " '2023.03.25',\n",
       " '2023.02.11',\n",
       " '2022.11.26',\n",
       " '2022.12.04',\n",
       " '2023.04.25',\n",
       " '2023.05.08',\n",
       " '2022.09.27',\n",
       " '2023.04.04']"
      ]
     },
     "execution_count": 134,
     "metadata": {},
     "output_type": "execute_result"
    }
   ],
   "source": [
    "# 게시일 Test-ALL\n",
    "\n",
    "date_list = []\n",
    "\n",
    "for url in url_list[:15]:\n",
    "    driver.get(url)\n",
    "    date = driver.find_element_by_css_selector('#wrapArticleInfo > span.f_l.date')\n",
    "    month = date.text.split()[0]\n",
    "    if  month == 'Jan':\n",
    "        month = '01.'\n",
    "    elif month == 'Feb':\n",
    "        month = '02.'\n",
    "    elif month == 'Mar':\n",
    "        month = '03.'\n",
    "    elif month == 'Apr':\n",
    "        month = '04.'\n",
    "    elif month == 'May':\n",
    "        month = '05.'\n",
    "    elif month == 'Jun':\n",
    "        month = '06.'\n",
    "    elif month == 'July':\n",
    "        month = '07.'\n",
    "    elif month == 'Aug':\n",
    "        month = '08.'\n",
    "    elif month == 'Sep':\n",
    "        month = '09.'\n",
    "    elif month == 'Oct':\n",
    "        month = '10.'\n",
    "    elif month == 'Nov':\n",
    "        month = '11.'\n",
    "    else:\n",
    "        month = '12.'\n",
    "    yymmdd = date.text.split()[2] + '.' + month + date.text.split()[1]\n",
    "    date_list.append(yymmdd.rstrip('.'))\n",
    "\n",
    "date_list"
   ]
  },
  {
   "cell_type": "code",
   "execution_count": 117,
   "id": "0418b33f",
   "metadata": {},
   "outputs": [
    {
     "data": {
      "text/plain": [
       "['12']"
      ]
     },
     "execution_count": 117,
     "metadata": {},
     "output_type": "execute_result"
    }
   ],
   "source": [
    "# # 좋아요 수 Test-1\n",
    "\n",
    "# like_list = []\n",
    "\n",
    "# for url in url_list[:1]:\n",
    "#     driver.get(url)\n",
    "#     like = driver.find_element_by_css_selector('body > div.service_header.article.\\#post_toolbar > div.wrap_inner > div.f_r > div > div.default_action_wrap.f_r > a.default_action.headerLikeBtn.img_ico_wrap.\\#likeit > span.f_l.text_like_count.text_default.text_with_img_ico.ico_likeit_like.\\#like')\n",
    "#     like_list.append(like.text)\n",
    "    \n",
    "# like_list"
   ]
  },
  {
   "cell_type": "code",
   "execution_count": 118,
   "id": "c908ee69",
   "metadata": {},
   "outputs": [
    {
     "data": {
      "text/plain": [
       "['12',\n",
       " '9',\n",
       " '13',\n",
       " '8',\n",
       " '6',\n",
       " '8',\n",
       " '12',\n",
       " '14',\n",
       " '9',\n",
       " '9',\n",
       " '8',\n",
       " '11',\n",
       " '4',\n",
       " '4',\n",
       " '9']"
      ]
     },
     "execution_count": 118,
     "metadata": {},
     "output_type": "execute_result"
    }
   ],
   "source": [
    "# 좋아요 수 Test-ALL\n",
    "\n",
    "like_list = []\n",
    "\n",
    "for url in url_list[:15]:\n",
    "    driver.get(url)\n",
    "    like = driver.find_element_by_css_selector('body > div.service_header.article.\\#post_toolbar > div.wrap_inner > div.f_r > div > div.default_action_wrap.f_r > a.default_action.headerLikeBtn.img_ico_wrap.\\#likeit > span.f_l.text_like_count.text_default.text_with_img_ico.ico_likeit_like.\\#like')\n",
    "    like_list.append(like.text)\n",
    "    \n",
    "like_list"
   ]
  },
  {
   "cell_type": "code",
   "execution_count": 122,
   "id": "d0de0906",
   "metadata": {},
   "outputs": [
    {
     "data": {
      "text/plain": [
       "['0']"
      ]
     },
     "execution_count": 122,
     "metadata": {},
     "output_type": "execute_result"
    }
   ],
   "source": [
    "# # 댓글 수 Test-1\n",
    "\n",
    "# comment_list = []\n",
    "\n",
    "# for url in url_list[:1]:\n",
    "#     driver.get(url)\n",
    "#     try:\n",
    "#         comment = driver.find_element_by_css_selector('body > div.service_header.article.\\#post_toolbar > div.wrap_inner > div.f_r > div > div.default_action_wrap.f_r > a.default_action.img_ico_wrap.comment.\\#comment > span.f_l.text_comment_count.text_default.text_with_img_ico')\n",
    "#         if comment.text == '':\n",
    "#             comment_list.append('0')\n",
    "#         else:\n",
    "#             comment_list.append(comment.text)\n",
    "#     except:\n",
    "#         comment_list.append('-')\n",
    "    \n",
    "# comment_list"
   ]
  },
  {
   "cell_type": "code",
   "execution_count": 123,
   "id": "e55e3c4d",
   "metadata": {},
   "outputs": [
    {
     "data": {
      "text/plain": [
       "['0', '0', '0', '0', '0', '0', '0', '0', '0', '0', '0', '0', '0', '0', '0']"
      ]
     },
     "execution_count": 123,
     "metadata": {},
     "output_type": "execute_result"
    }
   ],
   "source": [
    "# 댓글 수 Test-ALL\n",
    "\n",
    "comment_list = []\n",
    "\n",
    "for url in url_list[:15]:\n",
    "    driver.get(url)\n",
    "    try:\n",
    "        comment = driver.find_element_by_css_selector('body > div.service_header.article.\\#post_toolbar > div.wrap_inner > div.f_r > div > div.default_action_wrap.f_r > a.default_action.img_ico_wrap.comment.\\#comment > span.f_l.text_comment_count.text_default.text_with_img_ico')\n",
    "        if comment.text == '':\n",
    "            comment_list.append('0')\n",
    "        else:\n",
    "            comment_list.append(comment.text)\n",
    "    except:\n",
    "        comment_list.append('-')\n",
    "    \n",
    "comment_list"
   ]
  }
 ],
 "metadata": {
  "kernelspec": {
   "display_name": "Python 3 (ipykernel)",
   "language": "python",
   "name": "python3"
  },
  "language_info": {
   "codemirror_mode": {
    "name": "ipython",
    "version": 3
   },
   "file_extension": ".py",
   "mimetype": "text/x-python",
   "name": "python",
   "nbconvert_exporter": "python",
   "pygments_lexer": "ipython3",
   "version": "3.10.9"
  }
 },
 "nbformat": 4,
 "nbformat_minor": 5
}
