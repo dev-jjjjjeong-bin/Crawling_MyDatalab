{
 "cells": [
  {
   "cell_type": "code",
   "execution_count": 5,
   "id": "7dc944aa",
   "metadata": {},
   "outputs": [],
   "source": [
    "import warnings\n",
    "warnings.filterwarnings(\"ignore\")\n",
    "from selenium import webdriver\n",
    "from webdriver_manager.chrome import ChromeDriverManager\n",
    "from selenium.webdriver.common.keys import Keys\n",
    "import time\n",
    "import pandas as pd\n",
    "import re"
   ]
  },
  {
   "cell_type": "code",
   "execution_count": 12,
   "id": "eb2e613f",
   "metadata": {},
   "outputs": [
    {
     "name": "stderr",
     "output_type": "stream",
     "text": [
      "\n",
      "\n",
      "====== WebDriver manager ======\n",
      "Trying to download new driver from https://chromedriver.storage.googleapis.com/114.0.5735.16/chromedriver_win32.zip\n",
      "Driver has been saved in cache [C:\\Users\\0226p\\.wdm\\drivers\\chromedriver\\win32\\114.0.5735.16]\n",
      "C:\\Users\\Public\\Documents\\ESTsoft\\CreatorTemp\\ipykernel_8236\\3804039491.py:3: DeprecationWarning: executable_path has been deprecated, please pass in a Service object\n",
      "  driver = webdriver.Chrome(executable_path=ChromeDriverManager(version=\"114.0.5735.16\").install())\n"
     ]
    }
   ],
   "source": [
    "# 크롬 드라이버 버전이 수시로 업데이트되는 관계로 드라이버 설치하여 사용\n",
    "# 환경에 맞게 저장 경로 변경 필요\n",
    "driver = webdriver.Chrome('D:/PJB/MyDatalab/Develop-Crawling/Crawling_MyDatalab/chromedriver.exe')\n",
    "driver.maximize_window()"
   ]
  },
  {
   "cell_type": "code",
   "execution_count": 6,
   "id": "e0394c36",
   "metadata": {},
   "outputs": [
    {
     "data": {
      "text/plain": [
       "['https://www.youtube.com/watch?v=PFqyyIqGNb4',\n",
       " 'https://www.youtube.com/watch?v=eGv5EAMF8OQ',\n",
       " 'https://www.youtube.com/watch?v=Os5Y3RgzU6g',\n",
       " 'https://www.youtube.com/watch?v=dyqTwmEPtCQ',\n",
       " 'https://www.youtube.com/watch?v=bLa-B4sLfQE',\n",
       " 'https://www.youtube.com/watch?v=FMeVyoBS1DM',\n",
       " 'https://www.youtube.com/watch?v=_vyf1OiYJjE',\n",
       " 'https://www.youtube.com/watch?v=6ouvCZzT0aA',\n",
       " 'https://www.youtube.com/watch?v=_WvIeQOPFhU',\n",
       " 'https://www.youtube.com/watch?v=Fl-2fER_RV4',\n",
       " 'https://www.youtube.com/watch?v=8P71DBF5gF4',\n",
       " 'https://www.youtube.com/watch?v=wQ_Zq54yAfk',\n",
       " 'https://www.youtube.com/watch?v=3OQl5OY8IeE',\n",
       " 'https://www.youtube.com/watch?v=fTAyW9a0NBA',\n",
       " 'https://www.youtube.com/watch?v=047mq_HCT6o']"
      ]
     },
     "execution_count": 6,
     "metadata": {},
     "output_type": "execute_result"
    }
   ],
   "source": [
    "# Youtube URL List(확장자: .csv) 읽어오기 \n",
    "# 환경에 맞게 경로 변경 필요\n",
    "input_data = pd.read_csv('D:/PJB/MyDatalab/Develop-Crawling/Crawling_MyDatalab/Input-data/Youtube_Content_URL_list.csv')\n",
    "url = input_data['URL']\n",
    "url_list = url.values.tolist()\n",
    "url_list"
   ]
  },
  {
   "cell_type": "code",
   "execution_count": 14,
   "id": "e990dcb1",
   "metadata": {},
   "outputs": [
    {
     "name": "stderr",
     "output_type": "stream",
     "text": [
      "C:\\Users\\Public\\Documents\\ESTsoft\\CreatorTemp\\ipykernel_8236\\1522983320.py:8: DeprecationWarning: find_element_by_css_selector is deprecated. Please use find_element(by=By.CSS_SELECTOR, value=css_selector) instead\n",
      "  title = driver.find_element_by_css_selector('#title > h1')\n"
     ]
    },
    {
     "data": {
      "text/plain": [
       "['자기소개서, 면접 무엇을 드러내야 하나?_취업성공 전략특강Ⅱ']"
      ]
     },
     "execution_count": 14,
     "metadata": {},
     "output_type": "execute_result"
    }
   ],
   "source": [
    "# # 제목 Test-1\n",
    "\n",
    "# title_list = []\n",
    "\n",
    "# for url in url_list[:1]:\n",
    "#     driver.get(url)\n",
    "#     time.sleep(1)\n",
    "#     title = driver.find_element_by_css_selector('#title > h1')\n",
    "#     title_list.append(title.text)\n",
    "\n",
    "# title_list"
   ]
  },
  {
   "cell_type": "code",
   "execution_count": 18,
   "id": "ee129124",
   "metadata": {},
   "outputs": [
    {
     "name": "stderr",
     "output_type": "stream",
     "text": [
      "C:\\Users\\Public\\Documents\\ESTsoft\\CreatorTemp\\ipykernel_21832\\3969378447.py:8: DeprecationWarning: find_element_by_css_selector is deprecated. Please use find_element(by=By.CSS_SELECTOR, value=css_selector) instead\n",
      "  title = driver.find_element_by_css_selector('#title > h1')\n"
     ]
    },
    {
     "data": {
      "text/plain": [
       "['자기소개서, 면접 무엇을 드러내야 하나?_취업성공 전략특강Ⅱ',\n",
       " '면접관이 5초만 봐도 합격시키고 싶은 자소서 작성법 3가지',\n",
       " '자소서가 자유양식이라서 고민이라고요? 저와 함께라면 문제 없습니다😎 | #강민혁_자기소개서',\n",
       " '3년 전에 쓴 자소서 읽어보았습니다.. 😨｜자기소개서 작성 꿀팁은 덤!｜New 보령! 2022 하반기 공채 룩킹 포 어텐션 💘 2탄 자소서편',\n",
       " '자기소개서 회사/직무 경험이 없는데 어떻게 적어야 할까요? | 자소서 쓰는법, 자소서, 자소서 첨삭, 자기소개서 예시,자기소개서 항목,자소서 첨삭,자기소개서 첨삭,취업특강',\n",
       " '자소서 패러다임을 바꾸자 자기소개서 작성법 강좌',\n",
       " '자기소개서 직무역량 이렇게 녹여내면 합격한다!',\n",
       " '자기소개서 쓰는법? 기업 홈페이지의 인재상으로만 자소서 쉽게 쓰는 방법!｜취업 준비? 질문 있습니다!｜해커스잡 권준영｜자소서 인재상, 기업 인재상, 자기소개서 인재상',\n",
       " '자소서에 쓸 만한 경험이 없다는 사람 필수 시청!! [자소서 꿀TIP]',\n",
       " '자기소개서 지원동기 작성방법 - 지원동기는 직무역량을 나타내는 전공교육, 직업교육, 경험, 경력 사항으로 본인의 강점을 표현해야 합니다.',\n",
       " '[취업] 자기소개서, 이력서 등의 서류제출, 최적의 타이밍이 있을까?',\n",
       " '자소서 쓰는 꿀팁! 다 알려드립니다!😎(feat. 달고나 커피) [응답하라 세종교육]',\n",
       " '지원동기? 직무관련 경험? 어차피 자소서에 정답은 정해져 있다 [취보라04]',\n",
       " '지원동기를 가장 쉽고 빠르게 쓰는 3가지 방법 | 하나 골라서 쓰면 됨! [마스터 자소서]',\n",
       " '자소서 합격하려면 이렇게 쓰셔야합니다｜해커스잡 권준영｜자기소개서 예시, 자소서 쓰는법']"
      ]
     },
     "execution_count": 18,
     "metadata": {},
     "output_type": "execute_result"
    }
   ],
   "source": [
    "# 제목 Test-ALL\n",
    "\n",
    "title_list = []\n",
    "\n",
    "for url in url_list[:15]:\n",
    "    driver.get(url)\n",
    "    time.sleep(1)\n",
    "    title = driver.find_element_by_css_selector('#title > h1')\n",
    "    title_list.append(title.text)\n",
    "\n",
    "title_list"
   ]
  },
  {
   "cell_type": "code",
   "execution_count": 19,
   "id": "0c7f8eb7",
   "metadata": {},
   "outputs": [
    {
     "name": "stderr",
     "output_type": "stream",
     "text": [
      "C:\\Users\\Public\\Documents\\ESTsoft\\CreatorTemp\\ipykernel_21832\\3562568639.py:8: DeprecationWarning: find_element_by_css_selector is deprecated. Please use find_element(by=By.CSS_SELECTOR, value=css_selector) instead\n",
      "  publisher = driver.find_element_by_css_selector('#text > a')\n"
     ]
    },
    {
     "data": {
      "text/plain": [
       "['한국조세재정연구원']"
      ]
     },
     "execution_count": 19,
     "metadata": {},
     "output_type": "execute_result"
    }
   ],
   "source": [
    "# # 게시자 Test-1\n",
    "\n",
    "# publisher_list = []\n",
    "\n",
    "# for url in url_list[:1]:\n",
    "#     driver.get(url)\n",
    "#     time.sleep(1)\n",
    "#     publisher = driver.find_element_by_css_selector('#text > a')\n",
    "#     publisher_list.append(publisher.text)\n",
    "\n",
    "# publisher_list"
   ]
  },
  {
   "cell_type": "code",
   "execution_count": 23,
   "id": "cd431fb0",
   "metadata": {},
   "outputs": [
    {
     "name": "stderr",
     "output_type": "stream",
     "text": [
      "C:\\Users\\Public\\Documents\\ESTsoft\\CreatorTemp\\ipykernel_21832\\597919959.py:8: DeprecationWarning: find_element_by_css_selector is deprecated. Please use find_element(by=By.CSS_SELECTOR, value=css_selector) instead\n",
      "  publisher = driver.find_element_by_css_selector('#text > a')\n"
     ]
    },
    {
     "data": {
      "text/plain": [
       "['한국조세재정연구원',\n",
       " '면접왕 이형',\n",
       " '강민혁',\n",
       " '보령',\n",
       " '취업강의 1위 l 해커스잡·공기업',\n",
       " 'ESUP',\n",
       " '커리어브릿지',\n",
       " '취업강의 1위 l 해커스잡·공기업',\n",
       " 'AND (ft.인싸담당자)',\n",
       " '좀 알면 되는 취업비법들, ZOMBis',\n",
       " '내일부터 출근',\n",
       " '세종시교육청',\n",
       " 'AND (ft.인싸담당자)',\n",
       " 'AND (ft.인싸담당자)',\n",
       " '취업강의 1위 l 해커스잡·공기업']"
      ]
     },
     "execution_count": 23,
     "metadata": {},
     "output_type": "execute_result"
    }
   ],
   "source": [
    "# 게시자 Test-ALL\n",
    "\n",
    "publisher_list = []\n",
    "\n",
    "for url in url_list[:15]:\n",
    "    driver.get(url)\n",
    "    time.sleep(1)\n",
    "    publisher = driver.find_element_by_css_selector('#text > a')\n",
    "    publisher_list.append(publisher.text)\n",
    "    time.sleep(1)\n",
    "\n",
    "publisher_list"
   ]
  },
  {
   "cell_type": "code",
   "execution_count": 24,
   "id": "6fc401f5",
   "metadata": {},
   "outputs": [],
   "source": [
    "def convert_korean_to_number(korean_str):\n",
    "    units = {'천': 1000, '만': 10000}\n",
    "    number = float(re.search(r'[\\d.]+', korean_str).group())\n",
    "\n",
    "    unit_char = re.search(r'[천만]', korean_str)\n",
    "    if unit_char:\n",
    "        unit = units[unit_char.group()]\n",
    "        number *= unit\n",
    "\n",
    "    return int(number)\n",
    "\n",
    "def extract_subscriber_count(input_str):\n",
    "    pattern = r'구독자\\s+([\\d.천만]+)명'\n",
    "    match = re.search(pattern, input_str)\n",
    "\n",
    "    if match:\n",
    "        subscriber_count = match.group(1)\n",
    "        return convert_korean_to_number(subscriber_count)\n",
    "\n",
    "    return None\n",
    "\n",
    "# # 테스트\n",
    "# input_str1 = '구독자 3.31천명'\n",
    "# input_str2 = '구독자 54.1만명'\n",
    "\n",
    "# output1 = extract_subscriber_count(input_str1)\n",
    "# output2 = extract_subscriber_count(input_str2)\n",
    "\n",
    "# print(output1)\n",
    "# print(output2)"
   ]
  },
  {
   "cell_type": "code",
   "execution_count": 25,
   "id": "68fa75af",
   "metadata": {},
   "outputs": [
    {
     "name": "stderr",
     "output_type": "stream",
     "text": [
      "C:\\Users\\Public\\Documents\\ESTsoft\\CreatorTemp\\ipykernel_21832\\3030776212.py:8: DeprecationWarning: find_element_by_css_selector is deprecated. Please use find_element(by=By.CSS_SELECTOR, value=css_selector) instead\n",
      "  subscriber = driver.find_element_by_css_selector('#owner-sub-count')\n"
     ]
    },
    {
     "data": {
      "text/plain": [
       "[3320]"
      ]
     },
     "execution_count": 25,
     "metadata": {},
     "output_type": "execute_result"
    }
   ],
   "source": [
    "# # 구독자 수 Test-1\n",
    "\n",
    "# subscriber_list = []\n",
    "\n",
    "# for url in url_list[:1]:\n",
    "#     driver.get(url)\n",
    "#     time.sleep(1)\n",
    "#     subscriber = driver.find_element_by_css_selector('#owner-sub-count')\n",
    "#     subscriber_text = subscriber.text\n",
    "#     subscriber_int = extract_subscriber_count(subscriber_text)\n",
    "#     subscriber_list.append(subscriber_int)\n",
    "\n",
    "# subscriber_list"
   ]
  },
  {
   "cell_type": "code",
   "execution_count": 26,
   "id": "c8b7b9bf",
   "metadata": {},
   "outputs": [
    {
     "name": "stderr",
     "output_type": "stream",
     "text": [
      "C:\\Users\\Public\\Documents\\ESTsoft\\CreatorTemp\\ipykernel_21832\\38648039.py:8: DeprecationWarning: find_element_by_css_selector is deprecated. Please use find_element(by=By.CSS_SELECTOR, value=css_selector) instead\n",
      "  subscriber = driver.find_element_by_css_selector('#owner-sub-count')\n"
     ]
    },
    {
     "data": {
      "text/plain": [
       "[3320,\n",
       " 542000,\n",
       " 100000,\n",
       " 13100,\n",
       " 65600,\n",
       " 5350,\n",
       " 2110,\n",
       " 65600,\n",
       " 323000,\n",
       " 2170,\n",
       " 26400,\n",
       " 9180,\n",
       " 323000,\n",
       " 323000,\n",
       " 65600]"
      ]
     },
     "execution_count": 26,
     "metadata": {},
     "output_type": "execute_result"
    }
   ],
   "source": [
    "# 구독자 수 Test-ALL\n",
    "\n",
    "subscriber_list = []\n",
    "\n",
    "for url in url_list[:15]:\n",
    "    driver.get(url)\n",
    "    time.sleep(1)\n",
    "    subscriber = driver.find_element_by_css_selector('#owner-sub-count')\n",
    "    subscriber_text = subscriber.text\n",
    "    subscriber_int = extract_subscriber_count(subscriber_text)\n",
    "    subscriber_list.append(subscriber_int)\n",
    "\n",
    "subscriber_list"
   ]
  },
  {
   "cell_type": "code",
   "execution_count": 27,
   "id": "b60ce555",
   "metadata": {},
   "outputs": [
    {
     "name": "stderr",
     "output_type": "stream",
     "text": [
      "C:\\Users\\Public\\Documents\\ESTsoft\\CreatorTemp\\ipykernel_21832\\1346652892.py:8: DeprecationWarning: find_element_by_xpath is deprecated. Please use find_element(by=By.XPATH, value=xpath) instead\n",
      "  driver.find_element_by_xpath('//*[@id=\"expand\"]').click()\n",
      "C:\\Users\\Public\\Documents\\ESTsoft\\CreatorTemp\\ipykernel_21832\\1346652892.py:9: DeprecationWarning: find_element_by_css_selector is deprecated. Please use find_element(by=By.CSS_SELECTOR, value=css_selector) instead\n",
      "  date = driver.find_element_by_css_selector('#info > span:nth-child(3)')\n"
     ]
    },
    {
     "data": {
      "text/plain": [
       "['2023. 2. 14.']"
      ]
     },
     "execution_count": 27,
     "metadata": {},
     "output_type": "execute_result"
    }
   ],
   "source": [
    "# # 게시일 Test-1\n",
    "\n",
    "# date_list = []\n",
    "\n",
    "# for url in url_list[:1]:\n",
    "#     driver.get(url)\n",
    "#     time.sleep(1)\n",
    "#     driver.find_element_by_xpath('//*[@id=\"expand\"]').click()\n",
    "#     date = driver.find_element_by_css_selector('#info > span:nth-child(3)')\n",
    "#     date_list.append(date.text)\n",
    "\n",
    "# date_list"
   ]
  },
  {
   "cell_type": "code",
   "execution_count": 28,
   "id": "2c2a2a76",
   "metadata": {},
   "outputs": [
    {
     "name": "stderr",
     "output_type": "stream",
     "text": [
      "C:\\Users\\Public\\Documents\\ESTsoft\\CreatorTemp\\ipykernel_21832\\1654136559.py:8: DeprecationWarning: find_element_by_xpath is deprecated. Please use find_element(by=By.XPATH, value=xpath) instead\n",
      "  driver.find_element_by_xpath('//*[@id=\"expand\"]').click()\n",
      "C:\\Users\\Public\\Documents\\ESTsoft\\CreatorTemp\\ipykernel_21832\\1654136559.py:9: DeprecationWarning: find_element_by_css_selector is deprecated. Please use find_element(by=By.CSS_SELECTOR, value=css_selector) instead\n",
      "  date = driver.find_element_by_css_selector('#info > span:nth-child(3)')\n"
     ]
    },
    {
     "data": {
      "text/plain": [
       "['2023. 2. 14.',\n",
       " '2020. 8. 27.',\n",
       " '2022. 1. 25.',\n",
       " '2022. 9. 16.',\n",
       " '2019. 10. 4.',\n",
       " '2018. 5. 21.',\n",
       " '2021. 10. 3.',\n",
       " '2020. 1. 28.',\n",
       " '2018. 9. 3.',\n",
       " '2020. 5. 21.',\n",
       " '2021. 3. 19.',\n",
       " '2020. 3. 20.',\n",
       " '2022. 3. 10.',\n",
       " '2019. 9. 4.',\n",
       " '2023. 1. 11.']"
      ]
     },
     "execution_count": 28,
     "metadata": {},
     "output_type": "execute_result"
    }
   ],
   "source": [
    "# 게시일 Test-ALL\n",
    "\n",
    "date_list = []\n",
    "\n",
    "for url in url_list[:15]:\n",
    "    driver.get(url)\n",
    "    time.sleep(1)\n",
    "    driver.find_element_by_xpath('//*[@id=\"expand\"]').click()\n",
    "    date = driver.find_element_by_css_selector('#info > span:nth-child(3)')\n",
    "    date_list.append(date.text)\n",
    "\n",
    "date_list"
   ]
  },
  {
   "cell_type": "code",
   "execution_count": 31,
   "id": "26c27cb4",
   "metadata": {},
   "outputs": [
    {
     "name": "stderr",
     "output_type": "stream",
     "text": [
      "C:\\Users\\Public\\Documents\\ESTsoft\\CreatorTemp\\ipykernel_21832\\4263571273.py:8: DeprecationWarning: find_element_by_tag_name is deprecated. Please use find_element(by=By.TAG_NAME, value=name) instead\n",
      "  driver.find_element_by_tag_name('html').send_keys(Keys.PAGE_DOWN)\n",
      "C:\\Users\\Public\\Documents\\ESTsoft\\CreatorTemp\\ipykernel_21832\\4263571273.py:11: DeprecationWarning: find_element_by_css_selector is deprecated. Please use find_element(by=By.CSS_SELECTOR, value=css_selector) instead\n",
      "  comment = driver.find_element_by_css_selector('#count > yt-formatted-string')\n"
     ]
    },
    {
     "data": {
      "text/plain": [
       "['-', '598']"
      ]
     },
     "execution_count": 31,
     "metadata": {},
     "output_type": "execute_result"
    }
   ],
   "source": [
    "# # 댓글 수 Test-1\n",
    "\n",
    "# comment_list = []\n",
    "\n",
    "# for url in url_list[:2]:\n",
    "#     driver.get(url)\n",
    "#     time.sleep(1)\n",
    "#     driver.find_element_by_tag_name('html').send_keys(Keys.PAGE_DOWN)\n",
    "#     time.sleep(1)\n",
    "#     try:\n",
    "#         comment = driver.find_element_by_css_selector('#count > yt-formatted-string')\n",
    "#         comment_text = comment.text\n",
    "#         comment_int = re.sub(r'[^0-9]', '', comment_text)\n",
    "#         comment_list.append(comment_int)\n",
    "#     except:\n",
    "#         comment = '-'\n",
    "#         comment_list.append(comment)\n",
    "\n",
    "# comment_list"
   ]
  },
  {
   "cell_type": "code",
   "execution_count": 37,
   "id": "4ea5c7f4",
   "metadata": {},
   "outputs": [
    {
     "name": "stderr",
     "output_type": "stream",
     "text": [
      "C:\\Users\\Public\\Documents\\ESTsoft\\CreatorTemp\\ipykernel_21832\\927788012.py:8: DeprecationWarning: find_element_by_tag_name is deprecated. Please use find_element(by=By.TAG_NAME, value=name) instead\n",
      "  driver.find_element_by_tag_name('html').send_keys(Keys.PAGE_DOWN)\n",
      "C:\\Users\\Public\\Documents\\ESTsoft\\CreatorTemp\\ipykernel_21832\\927788012.py:11: DeprecationWarning: find_element_by_css_selector is deprecated. Please use find_element(by=By.CSS_SELECTOR, value=css_selector) instead\n",
      "  comment = driver.find_element_by_css_selector('#count > yt-formatted-string')\n"
     ]
    },
    {
     "data": {
      "text/plain": [
       "['-',\n",
       " '598',\n",
       " '29',\n",
       " '335',\n",
       " '1',\n",
       " '3',\n",
       " '0',\n",
       " '2',\n",
       " '105',\n",
       " '2',\n",
       " '9',\n",
       " '18',\n",
       " '16',\n",
       " '379',\n",
       " '1']"
      ]
     },
     "execution_count": 37,
     "metadata": {},
     "output_type": "execute_result"
    }
   ],
   "source": [
    "# 댓글 수 Test-ALL\n",
    "\n",
    "comment_list = []\n",
    "\n",
    "for url in url_list[:15]:\n",
    "    driver.get(url)\n",
    "    time.sleep(1)\n",
    "    driver.find_element_by_tag_name('html').send_keys(Keys.PAGE_DOWN)\n",
    "    time.sleep(2)\n",
    "    try:\n",
    "        comment = driver.find_element_by_css_selector('#count > yt-formatted-string')\n",
    "        comment_text = comment.text\n",
    "        comment_int = re.sub(r'[^0-9]', '', comment_text)\n",
    "        comment_list.append(comment_int)\n",
    "    except:\n",
    "        comment = '-'\n",
    "        comment_list.append(comment)\n",
    "\n",
    "comment_list"
   ]
  },
  {
   "cell_type": "code",
   "execution_count": 42,
   "id": "0418b33f",
   "metadata": {},
   "outputs": [
    {
     "name": "stderr",
     "output_type": "stream",
     "text": [
      "C:\\Users\\Public\\Documents\\ESTsoft\\CreatorTemp\\ipykernel_21832\\2715408934.py:8: DeprecationWarning: find_element_by_xpath is deprecated. Please use find_element(by=By.XPATH, value=xpath) instead\n",
      "  like = driver.find_element_by_xpath('//*[@id=\"segmented-like-button\"]/ytd-toggle-button-renderer/yt-button-shape/button')\n"
     ]
    },
    {
     "data": {
      "text/plain": [
       "['17']"
      ]
     },
     "execution_count": 42,
     "metadata": {},
     "output_type": "execute_result"
    }
   ],
   "source": [
    "# # 좋아요 수 Test-1\n",
    "\n",
    "# like_list = []\n",
    "\n",
    "# for url in url_list[:1]:\n",
    "#     driver.get(url)\n",
    "#     time.sleep(1)\n",
    "#     like = driver.find_element_by_xpath('//*[@id=\"segmented-like-button\"]/ytd-toggle-button-renderer/yt-button-shape/button')\n",
    "#     like_text = like.get_attribute('aria-label')\n",
    "#     like_int = re.sub(r'[^0-9]', '', like_text)\n",
    "#     like_list.append(like_int)\n",
    "\n",
    "# like_list"
   ]
  },
  {
   "cell_type": "code",
   "execution_count": 43,
   "id": "69dbb82b",
   "metadata": {},
   "outputs": [
    {
     "name": "stderr",
     "output_type": "stream",
     "text": [
      "C:\\Users\\Public\\Documents\\ESTsoft\\CreatorTemp\\ipykernel_21832\\4063374663.py:8: DeprecationWarning: find_element_by_xpath is deprecated. Please use find_element(by=By.XPATH, value=xpath) instead\n",
      "  like = driver.find_element_by_xpath('//*[@id=\"segmented-like-button\"]/ytd-toggle-button-renderer/yt-button-shape/button')\n"
     ]
    },
    {
     "data": {
      "text/plain": [
       "['17',\n",
       " '38960',\n",
       " '996',\n",
       " '234',\n",
       " '7',\n",
       " '70',\n",
       " '30',\n",
       " '104',\n",
       " '2474',\n",
       " '6',\n",
       " '36',\n",
       " '134',\n",
       " '431',\n",
       " '16682',\n",
       " '14']"
      ]
     },
     "execution_count": 43,
     "metadata": {},
     "output_type": "execute_result"
    }
   ],
   "source": [
    "# 좋아요 수 Test-ALL\n",
    "\n",
    "like_list = []\n",
    "\n",
    "for url in url_list[:15]:\n",
    "    driver.get(url)\n",
    "    time.sleep(1)\n",
    "    like = driver.find_element_by_xpath('//*[@id=\"segmented-like-button\"]/ytd-toggle-button-renderer/yt-button-shape/button')\n",
    "    like_text = like.get_attribute('aria-label')\n",
    "    like_int = re.sub(r'[^0-9]', '', like_text)\n",
    "    like_list.append(like_int)\n",
    "\n",
    "like_list"
   ]
  },
  {
   "cell_type": "code",
   "execution_count": 47,
   "id": "d637d2d0",
   "metadata": {},
   "outputs": [
    {
     "name": "stderr",
     "output_type": "stream",
     "text": [
      "C:\\Users\\Public\\Documents\\ESTsoft\\CreatorTemp\\ipykernel_21832\\2509767359.py:8: DeprecationWarning: find_element_by_xpath is deprecated. Please use find_element(by=By.XPATH, value=xpath) instead\n",
      "  driver.find_element_by_xpath('//*[@id=\"expand\"]').click()\n",
      "C:\\Users\\Public\\Documents\\ESTsoft\\CreatorTemp\\ipykernel_21832\\2509767359.py:9: DeprecationWarning: find_element_by_css_selector is deprecated. Please use find_element(by=By.CSS_SELECTOR, value=css_selector) instead\n",
      "  view = driver.find_element_by_css_selector('#info > span:nth-child(1)')\n"
     ]
    },
    {
     "data": {
      "text/plain": [
       "['482']"
      ]
     },
     "execution_count": 47,
     "metadata": {},
     "output_type": "execute_result"
    }
   ],
   "source": [
    "# # 조회수 Test-1\n",
    "\n",
    "# view_list = []\n",
    "\n",
    "# for url in url_list[:1]:\n",
    "#     driver.get(url)\n",
    "#     time.sleep(1)\n",
    "#     driver.find_element_by_xpath('//*[@id=\"expand\"]').click()\n",
    "#     view = driver.find_element_by_css_selector('#info > span:nth-child(1)')\n",
    "#     view_text = view.text\n",
    "#     view_int = re.sub(r'[^0-9]', '', view_text)\n",
    "#     view_list.append(view_int)\n",
    "\n",
    "# view_list"
   ]
  },
  {
   "cell_type": "code",
   "execution_count": 48,
   "id": "a304530f",
   "metadata": {},
   "outputs": [
    {
     "name": "stderr",
     "output_type": "stream",
     "text": [
      "C:\\Users\\Public\\Documents\\ESTsoft\\CreatorTemp\\ipykernel_21832\\736048042.py:8: DeprecationWarning: find_element_by_xpath is deprecated. Please use find_element(by=By.XPATH, value=xpath) instead\n",
      "  driver.find_element_by_xpath('//*[@id=\"expand\"]').click()\n",
      "C:\\Users\\Public\\Documents\\ESTsoft\\CreatorTemp\\ipykernel_21832\\736048042.py:9: DeprecationWarning: find_element_by_css_selector is deprecated. Please use find_element(by=By.CSS_SELECTOR, value=css_selector) instead\n",
      "  view = driver.find_element_by_css_selector('#info > span:nth-child(1)')\n"
     ]
    },
    {
     "data": {
      "text/plain": [
       "['482',\n",
       " '1868741',\n",
       " '39410',\n",
       " '3148',\n",
       " '936',\n",
       " '3237',\n",
       " '3691',\n",
       " '7150',\n",
       " '184930',\n",
       " '670',\n",
       " '3661',\n",
       " '4993',\n",
       " '15648',\n",
       " '1098095',\n",
       " '674']"
      ]
     },
     "execution_count": 48,
     "metadata": {},
     "output_type": "execute_result"
    }
   ],
   "source": [
    "# 조회수 Test-ALL\n",
    "\n",
    "view_list = []\n",
    "\n",
    "for url in url_list[:15]:\n",
    "    driver.get(url)\n",
    "    time.sleep(1)\n",
    "    driver.find_element_by_xpath('//*[@id=\"expand\"]').click()\n",
    "    view = driver.find_element_by_css_selector('#info > span:nth-child(1)')\n",
    "    view_text = view.text\n",
    "    view_int = re.sub(r'[^0-9]', '', view_text)\n",
    "    view_list.append(view_int)\n",
    "\n",
    "view_list"
   ]
  },
  {
   "cell_type": "code",
   "execution_count": 49,
   "id": "d98ec203",
   "metadata": {},
   "outputs": [
    {
     "data": {
      "text/html": [
       "<div>\n",
       "<style scoped>\n",
       "    .dataframe tbody tr th:only-of-type {\n",
       "        vertical-align: middle;\n",
       "    }\n",
       "\n",
       "    .dataframe tbody tr th {\n",
       "        vertical-align: top;\n",
       "    }\n",
       "\n",
       "    .dataframe thead th {\n",
       "        text-align: right;\n",
       "    }\n",
       "</style>\n",
       "<table border=\"1\" class=\"dataframe\">\n",
       "  <thead>\n",
       "    <tr style=\"text-align: right;\">\n",
       "      <th></th>\n",
       "      <th>제목</th>\n",
       "      <th>URL</th>\n",
       "      <th>게시자</th>\n",
       "      <th>구독자</th>\n",
       "      <th>게시일</th>\n",
       "      <th>댓글 수</th>\n",
       "      <th>좋아요</th>\n",
       "      <th>조회수</th>\n",
       "    </tr>\n",
       "  </thead>\n",
       "  <tbody>\n",
       "    <tr>\n",
       "      <th>0</th>\n",
       "      <td>자기소개서, 면접 무엇을 드러내야 하나?_취업성공 전략특강Ⅱ</td>\n",
       "      <td>https://www.youtube.com/watch?v=PFqyyIqGNb4</td>\n",
       "      <td>한국조세재정연구원</td>\n",
       "      <td>3320</td>\n",
       "      <td>2023. 2. 14.</td>\n",
       "      <td>-</td>\n",
       "      <td>17</td>\n",
       "      <td>482</td>\n",
       "    </tr>\n",
       "    <tr>\n",
       "      <th>1</th>\n",
       "      <td>면접관이 5초만 봐도 합격시키고 싶은 자소서 작성법 3가지</td>\n",
       "      <td>https://www.youtube.com/watch?v=eGv5EAMF8OQ</td>\n",
       "      <td>면접왕 이형</td>\n",
       "      <td>542000</td>\n",
       "      <td>2020. 8. 27.</td>\n",
       "      <td>598</td>\n",
       "      <td>38960</td>\n",
       "      <td>1868741</td>\n",
       "    </tr>\n",
       "    <tr>\n",
       "      <th>2</th>\n",
       "      <td>자소서가 자유양식이라서 고민이라고요? 저와 함께라면 문제 없습니다😎 | #강민혁_자...</td>\n",
       "      <td>https://www.youtube.com/watch?v=Os5Y3RgzU6g</td>\n",
       "      <td>강민혁</td>\n",
       "      <td>100000</td>\n",
       "      <td>2022. 1. 25.</td>\n",
       "      <td>29</td>\n",
       "      <td>996</td>\n",
       "      <td>39410</td>\n",
       "    </tr>\n",
       "    <tr>\n",
       "      <th>3</th>\n",
       "      <td>3년 전에 쓴 자소서 읽어보았습니다.. 😨｜자기소개서 작성 꿀팁은 덤!｜New 보령...</td>\n",
       "      <td>https://www.youtube.com/watch?v=dyqTwmEPtCQ</td>\n",
       "      <td>보령</td>\n",
       "      <td>13100</td>\n",
       "      <td>2022. 9. 16.</td>\n",
       "      <td>335</td>\n",
       "      <td>234</td>\n",
       "      <td>3148</td>\n",
       "    </tr>\n",
       "    <tr>\n",
       "      <th>4</th>\n",
       "      <td>자기소개서 회사/직무 경험이 없는데 어떻게 적어야 할까요? | 자소서 쓰는법, 자소...</td>\n",
       "      <td>https://www.youtube.com/watch?v=bLa-B4sLfQE</td>\n",
       "      <td>취업강의 1위 l 해커스잡·공기업</td>\n",
       "      <td>65600</td>\n",
       "      <td>2019. 10. 4.</td>\n",
       "      <td>1</td>\n",
       "      <td>7</td>\n",
       "      <td>936</td>\n",
       "    </tr>\n",
       "    <tr>\n",
       "      <th>5</th>\n",
       "      <td>자소서 패러다임을 바꾸자 자기소개서 작성법 강좌</td>\n",
       "      <td>https://www.youtube.com/watch?v=FMeVyoBS1DM</td>\n",
       "      <td>ESUP</td>\n",
       "      <td>5350</td>\n",
       "      <td>2018. 5. 21.</td>\n",
       "      <td>3</td>\n",
       "      <td>70</td>\n",
       "      <td>3237</td>\n",
       "    </tr>\n",
       "    <tr>\n",
       "      <th>6</th>\n",
       "      <td>자기소개서 직무역량 이렇게 녹여내면 합격한다!</td>\n",
       "      <td>https://www.youtube.com/watch?v=_vyf1OiYJjE</td>\n",
       "      <td>커리어브릿지</td>\n",
       "      <td>2110</td>\n",
       "      <td>2021. 10. 3.</td>\n",
       "      <td>0</td>\n",
       "      <td>30</td>\n",
       "      <td>3691</td>\n",
       "    </tr>\n",
       "    <tr>\n",
       "      <th>7</th>\n",
       "      <td>자기소개서 쓰는법? 기업 홈페이지의 인재상으로만 자소서 쉽게 쓰는 방법!｜취업 준비...</td>\n",
       "      <td>https://www.youtube.com/watch?v=6ouvCZzT0aA</td>\n",
       "      <td>취업강의 1위 l 해커스잡·공기업</td>\n",
       "      <td>65600</td>\n",
       "      <td>2020. 1. 28.</td>\n",
       "      <td>2</td>\n",
       "      <td>104</td>\n",
       "      <td>7150</td>\n",
       "    </tr>\n",
       "    <tr>\n",
       "      <th>8</th>\n",
       "      <td>자소서에 쓸 만한 경험이 없다는 사람 필수 시청!! [자소서 꿀TIP]</td>\n",
       "      <td>https://www.youtube.com/watch?v=_WvIeQOPFhU</td>\n",
       "      <td>AND (ft.인싸담당자)</td>\n",
       "      <td>323000</td>\n",
       "      <td>2018. 9. 3.</td>\n",
       "      <td>105</td>\n",
       "      <td>2474</td>\n",
       "      <td>184930</td>\n",
       "    </tr>\n",
       "    <tr>\n",
       "      <th>9</th>\n",
       "      <td>자기소개서 지원동기 작성방법 - 지원동기는 직무역량을 나타내는 전공교육, 직업교육,...</td>\n",
       "      <td>https://www.youtube.com/watch?v=Fl-2fER_RV4</td>\n",
       "      <td>좀 알면 되는 취업비법들, ZOMBis</td>\n",
       "      <td>2170</td>\n",
       "      <td>2020. 5. 21.</td>\n",
       "      <td>2</td>\n",
       "      <td>6</td>\n",
       "      <td>670</td>\n",
       "    </tr>\n",
       "    <tr>\n",
       "      <th>10</th>\n",
       "      <td>[취업] 자기소개서, 이력서 등의 서류제출, 최적의 타이밍이 있을까?</td>\n",
       "      <td>https://www.youtube.com/watch?v=8P71DBF5gF4</td>\n",
       "      <td>내일부터 출근</td>\n",
       "      <td>26400</td>\n",
       "      <td>2021. 3. 19.</td>\n",
       "      <td>9</td>\n",
       "      <td>36</td>\n",
       "      <td>3661</td>\n",
       "    </tr>\n",
       "    <tr>\n",
       "      <th>11</th>\n",
       "      <td>자소서 쓰는 꿀팁! 다 알려드립니다!😎(feat. 달고나 커피) [응답하라 세종교육]</td>\n",
       "      <td>https://www.youtube.com/watch?v=wQ_Zq54yAfk</td>\n",
       "      <td>세종시교육청</td>\n",
       "      <td>9180</td>\n",
       "      <td>2020. 3. 20.</td>\n",
       "      <td>18</td>\n",
       "      <td>134</td>\n",
       "      <td>4993</td>\n",
       "    </tr>\n",
       "    <tr>\n",
       "      <th>12</th>\n",
       "      <td>지원동기? 직무관련 경험? 어차피 자소서에 정답은 정해져 있다 [취보라04]</td>\n",
       "      <td>https://www.youtube.com/watch?v=3OQl5OY8IeE</td>\n",
       "      <td>AND (ft.인싸담당자)</td>\n",
       "      <td>323000</td>\n",
       "      <td>2022. 3. 10.</td>\n",
       "      <td>16</td>\n",
       "      <td>431</td>\n",
       "      <td>15648</td>\n",
       "    </tr>\n",
       "    <tr>\n",
       "      <th>13</th>\n",
       "      <td>지원동기를 가장 쉽고 빠르게 쓰는 3가지 방법 | 하나 골라서 쓰면 됨! [마스터 ...</td>\n",
       "      <td>https://www.youtube.com/watch?v=fTAyW9a0NBA</td>\n",
       "      <td>AND (ft.인싸담당자)</td>\n",
       "      <td>323000</td>\n",
       "      <td>2019. 9. 4.</td>\n",
       "      <td>379</td>\n",
       "      <td>16682</td>\n",
       "      <td>1098095</td>\n",
       "    </tr>\n",
       "    <tr>\n",
       "      <th>14</th>\n",
       "      <td>자소서 합격하려면 이렇게 쓰셔야합니다｜해커스잡 권준영｜자기소개서 예시, 자소서 쓰는법</td>\n",
       "      <td>https://www.youtube.com/watch?v=047mq_HCT6o</td>\n",
       "      <td>취업강의 1위 l 해커스잡·공기업</td>\n",
       "      <td>65600</td>\n",
       "      <td>2023. 1. 11.</td>\n",
       "      <td>1</td>\n",
       "      <td>14</td>\n",
       "      <td>674</td>\n",
       "    </tr>\n",
       "  </tbody>\n",
       "</table>\n",
       "</div>"
      ],
      "text/plain": [
       "                                                   제목  \\\n",
       "0                   자기소개서, 면접 무엇을 드러내야 하나?_취업성공 전략특강Ⅱ   \n",
       "1                    면접관이 5초만 봐도 합격시키고 싶은 자소서 작성법 3가지   \n",
       "2   자소서가 자유양식이라서 고민이라고요? 저와 함께라면 문제 없습니다😎 | #강민혁_자...   \n",
       "3   3년 전에 쓴 자소서 읽어보았습니다.. 😨｜자기소개서 작성 꿀팁은 덤!｜New 보령...   \n",
       "4   자기소개서 회사/직무 경험이 없는데 어떻게 적어야 할까요? | 자소서 쓰는법, 자소...   \n",
       "5                          자소서 패러다임을 바꾸자 자기소개서 작성법 강좌   \n",
       "6                           자기소개서 직무역량 이렇게 녹여내면 합격한다!   \n",
       "7   자기소개서 쓰는법? 기업 홈페이지의 인재상으로만 자소서 쉽게 쓰는 방법!｜취업 준비...   \n",
       "8             자소서에 쓸 만한 경험이 없다는 사람 필수 시청!! [자소서 꿀TIP]   \n",
       "9   자기소개서 지원동기 작성방법 - 지원동기는 직무역량을 나타내는 전공교육, 직업교육,...   \n",
       "10             [취업] 자기소개서, 이력서 등의 서류제출, 최적의 타이밍이 있을까?   \n",
       "11    자소서 쓰는 꿀팁! 다 알려드립니다!😎(feat. 달고나 커피) [응답하라 세종교육]   \n",
       "12         지원동기? 직무관련 경험? 어차피 자소서에 정답은 정해져 있다 [취보라04]   \n",
       "13  지원동기를 가장 쉽고 빠르게 쓰는 3가지 방법 | 하나 골라서 쓰면 됨! [마스터 ...   \n",
       "14    자소서 합격하려면 이렇게 쓰셔야합니다｜해커스잡 권준영｜자기소개서 예시, 자소서 쓰는법   \n",
       "\n",
       "                                            URL                    게시자  \\\n",
       "0   https://www.youtube.com/watch?v=PFqyyIqGNb4              한국조세재정연구원   \n",
       "1   https://www.youtube.com/watch?v=eGv5EAMF8OQ                 면접왕 이형   \n",
       "2   https://www.youtube.com/watch?v=Os5Y3RgzU6g                    강민혁   \n",
       "3   https://www.youtube.com/watch?v=dyqTwmEPtCQ                     보령   \n",
       "4   https://www.youtube.com/watch?v=bLa-B4sLfQE     취업강의 1위 l 해커스잡·공기업   \n",
       "5   https://www.youtube.com/watch?v=FMeVyoBS1DM                   ESUP   \n",
       "6   https://www.youtube.com/watch?v=_vyf1OiYJjE                 커리어브릿지   \n",
       "7   https://www.youtube.com/watch?v=6ouvCZzT0aA     취업강의 1위 l 해커스잡·공기업   \n",
       "8   https://www.youtube.com/watch?v=_WvIeQOPFhU         AND (ft.인싸담당자)   \n",
       "9   https://www.youtube.com/watch?v=Fl-2fER_RV4  좀 알면 되는 취업비법들, ZOMBis   \n",
       "10  https://www.youtube.com/watch?v=8P71DBF5gF4                내일부터 출근   \n",
       "11  https://www.youtube.com/watch?v=wQ_Zq54yAfk                 세종시교육청   \n",
       "12  https://www.youtube.com/watch?v=3OQl5OY8IeE         AND (ft.인싸담당자)   \n",
       "13  https://www.youtube.com/watch?v=fTAyW9a0NBA         AND (ft.인싸담당자)   \n",
       "14  https://www.youtube.com/watch?v=047mq_HCT6o     취업강의 1위 l 해커스잡·공기업   \n",
       "\n",
       "       구독자           게시일 댓글 수    좋아요      조회수  \n",
       "0     3320  2023. 2. 14.    -     17      482  \n",
       "1   542000  2020. 8. 27.  598  38960  1868741  \n",
       "2   100000  2022. 1. 25.   29    996    39410  \n",
       "3    13100  2022. 9. 16.  335    234     3148  \n",
       "4    65600  2019. 10. 4.    1      7      936  \n",
       "5     5350  2018. 5. 21.    3     70     3237  \n",
       "6     2110  2021. 10. 3.    0     30     3691  \n",
       "7    65600  2020. 1. 28.    2    104     7150  \n",
       "8   323000   2018. 9. 3.  105   2474   184930  \n",
       "9     2170  2020. 5. 21.    2      6      670  \n",
       "10   26400  2021. 3. 19.    9     36     3661  \n",
       "11    9180  2020. 3. 20.   18    134     4993  \n",
       "12  323000  2022. 3. 10.   16    431    15648  \n",
       "13  323000   2019. 9. 4.  379  16682  1098095  \n",
       "14   65600  2023. 1. 11.    1     14      674  "
      ]
     },
     "execution_count": 49,
     "metadata": {},
     "output_type": "execute_result"
    }
   ],
   "source": [
    "df = {'제목': title_list, 'URL': url_list, '게시자': publisher_list, '구독자': subscriber_list, '게시일': date_list, '댓글 수': comment_list, '좋아요': like_list, '조회수': view_list}\n",
    "output_data = pd.DataFrame(df)\n",
    "output_data"
   ]
  }
 ],
 "metadata": {
  "kernelspec": {
   "display_name": "Python 3 (ipykernel)",
   "language": "python",
   "name": "python3"
  },
  "language_info": {
   "codemirror_mode": {
    "name": "ipython",
    "version": 3
   },
   "file_extension": ".py",
   "mimetype": "text/x-python",
   "name": "python",
   "nbconvert_exporter": "python",
   "pygments_lexer": "ipython3",
   "version": "3.10.9"
  }
 },
 "nbformat": 4,
 "nbformat_minor": 5
}
