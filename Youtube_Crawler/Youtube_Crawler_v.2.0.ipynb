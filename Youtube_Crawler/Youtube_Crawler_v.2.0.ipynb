{
 "cells": [
  {
   "cell_type": "code",
   "execution_count": 1,
   "id": "7dc944aa",
   "metadata": {},
   "outputs": [],
   "source": [
    "from selenium import webdriver\n",
    "from selenium.common.exceptions import WebDriverException as WDE\n",
    "from selenium.webdriver.support.ui import WebDriverWait\n",
    "from selenium.webdriver.support import expected_conditions as EC\n",
    "from selenium.webdriver.common.by import By\n",
    "from selenium.webdriver.common.keys import Keys\n",
    "from webdriver_manager.chrome import ChromeDriverManager\n",
    "import requests\n",
    "from bs4 import BeautifulSoup\n",
    "import time\n",
    "import random\n",
    "import pandas as pd"
   ]
  },
  {
   "cell_type": "code",
   "execution_count": 2,
   "id": "31044f07",
   "metadata": {
    "scrolled": true
   },
   "outputs": [
    {
     "name": "stderr",
     "output_type": "stream",
     "text": [
      "\n",
      "\n",
      "====== WebDriver manager ======\n",
      "Current google-chrome version is 114.0.5735\n",
      "Get LATEST chromedriver version for 114.0.5735 google-chrome\n",
      "Trying to download new driver from https://chromedriver.storage.googleapis.com/114.0.5735.90/chromedriver_win32.zip\n",
      "Driver has been saved in cache [C:\\Users\\0226p\\.wdm\\drivers\\chromedriver\\win32\\114.0.5735.90]\n"
     ]
    }
   ],
   "source": [
    "# 최신 크롬 드라이버 사용하도록 세팅: 현재 OS에 설치된 크롬 브라우저 버전에 맞게 cache에 드라이버 설치\n",
    "from selenium.webdriver.chrome.service import Service\n",
    "service = Service(ChromeDriverManager().install())"
   ]
  },
  {
   "cell_type": "code",
   "execution_count": 3,
   "id": "8f5ac6be",
   "metadata": {},
   "outputs": [
    {
     "name": "stderr",
     "output_type": "stream",
     "text": [
      "C:\\Users\\Public\\Documents\\ESTsoft\\CreatorTemp\\ipykernel_11956\\2863590393.py:2: DeprecationWarning: executable_path has been deprecated, please pass in a Service object\n",
      "  driver = webdriver.Chrome(chrom_driver)\n"
     ]
    }
   ],
   "source": [
    "chrom_driver = 'D:\\PJB\\MyDatalab\\Jupyter Notebook\\chromedriver.exe'\n",
    "driver = webdriver.Chrome(chrom_driver)"
   ]
  },
  {
   "cell_type": "code",
   "execution_count": 4,
   "id": "a3f5260b",
   "metadata": {},
   "outputs": [
    {
     "data": {
      "text/html": [
       "<div>\n",
       "<style scoped>\n",
       "    .dataframe tbody tr th:only-of-type {\n",
       "        vertical-align: middle;\n",
       "    }\n",
       "\n",
       "    .dataframe tbody tr th {\n",
       "        vertical-align: top;\n",
       "    }\n",
       "\n",
       "    .dataframe thead th {\n",
       "        text-align: right;\n",
       "    }\n",
       "</style>\n",
       "<table border=\"1\" class=\"dataframe\">\n",
       "  <thead>\n",
       "    <tr style=\"text-align: right;\">\n",
       "      <th></th>\n",
       "      <th>URL</th>\n",
       "    </tr>\n",
       "  </thead>\n",
       "  <tbody>\n",
       "    <tr>\n",
       "      <th>0</th>\n",
       "      <td>https://www.youtube.com/watch?v=PFqyyIqGNb4</td>\n",
       "    </tr>\n",
       "    <tr>\n",
       "      <th>1</th>\n",
       "      <td>https://www.youtube.com/watch?v=eGv5EAMF8OQ</td>\n",
       "    </tr>\n",
       "    <tr>\n",
       "      <th>2</th>\n",
       "      <td>https://www.youtube.com/watch?v=Os5Y3RgzU6g</td>\n",
       "    </tr>\n",
       "    <tr>\n",
       "      <th>3</th>\n",
       "      <td>https://www.youtube.com/watch?v=dyqTwmEPtCQ</td>\n",
       "    </tr>\n",
       "    <tr>\n",
       "      <th>4</th>\n",
       "      <td>https://www.youtube.com/watch?v=bLa-B4sLfQE</td>\n",
       "    </tr>\n",
       "    <tr>\n",
       "      <th>5</th>\n",
       "      <td>https://www.youtube.com/watch?v=FMeVyoBS1DM</td>\n",
       "    </tr>\n",
       "    <tr>\n",
       "      <th>6</th>\n",
       "      <td>https://www.youtube.com/watch?v=_vyf1OiYJjE</td>\n",
       "    </tr>\n",
       "    <tr>\n",
       "      <th>7</th>\n",
       "      <td>https://www.youtube.com/watch?v=6ouvCZzT0aA</td>\n",
       "    </tr>\n",
       "    <tr>\n",
       "      <th>8</th>\n",
       "      <td>https://www.youtube.com/watch?v=_WvIeQOPFhU</td>\n",
       "    </tr>\n",
       "    <tr>\n",
       "      <th>9</th>\n",
       "      <td>https://www.youtube.com/watch?v=Fl-2fER_RV4</td>\n",
       "    </tr>\n",
       "    <tr>\n",
       "      <th>10</th>\n",
       "      <td>https://www.youtube.com/watch?v=8P71DBF5gF4</td>\n",
       "    </tr>\n",
       "    <tr>\n",
       "      <th>11</th>\n",
       "      <td>https://www.youtube.com/watch?v=wQ_Zq54yAfk</td>\n",
       "    </tr>\n",
       "    <tr>\n",
       "      <th>12</th>\n",
       "      <td>https://www.youtube.com/watch?v=3OQl5OY8IeE</td>\n",
       "    </tr>\n",
       "    <tr>\n",
       "      <th>13</th>\n",
       "      <td>https://www.youtube.com/watch?v=fTAyW9a0NBA</td>\n",
       "    </tr>\n",
       "    <tr>\n",
       "      <th>14</th>\n",
       "      <td>https://www.youtube.com/watch?v=047mq_HCT6o</td>\n",
       "    </tr>\n",
       "  </tbody>\n",
       "</table>\n",
       "</div>"
      ],
      "text/plain": [
       "                                            URL\n",
       "0   https://www.youtube.com/watch?v=PFqyyIqGNb4\n",
       "1   https://www.youtube.com/watch?v=eGv5EAMF8OQ\n",
       "2   https://www.youtube.com/watch?v=Os5Y3RgzU6g\n",
       "3   https://www.youtube.com/watch?v=dyqTwmEPtCQ\n",
       "4   https://www.youtube.com/watch?v=bLa-B4sLfQE\n",
       "5   https://www.youtube.com/watch?v=FMeVyoBS1DM\n",
       "6   https://www.youtube.com/watch?v=_vyf1OiYJjE\n",
       "7   https://www.youtube.com/watch?v=6ouvCZzT0aA\n",
       "8   https://www.youtube.com/watch?v=_WvIeQOPFhU\n",
       "9   https://www.youtube.com/watch?v=Fl-2fER_RV4\n",
       "10  https://www.youtube.com/watch?v=8P71DBF5gF4\n",
       "11  https://www.youtube.com/watch?v=wQ_Zq54yAfk\n",
       "12  https://www.youtube.com/watch?v=3OQl5OY8IeE\n",
       "13  https://www.youtube.com/watch?v=fTAyW9a0NBA\n",
       "14  https://www.youtube.com/watch?v=047mq_HCT6o"
      ]
     },
     "execution_count": 4,
     "metadata": {},
     "output_type": "execute_result"
    }
   ],
   "source": [
    "input_data = pd.read_csv('D:\\PJB\\MyDatalab\\Jupyter Notebook\\Input-data\\Youtube_Content_URL_list.csv')\n",
    "input_data"
   ]
  },
  {
   "cell_type": "code",
   "execution_count": 5,
   "id": "36a2cbde",
   "metadata": {},
   "outputs": [
    {
     "data": {
      "text/plain": [
       "0     https://www.youtube.com/watch?v=PFqyyIqGNb4\n",
       "1     https://www.youtube.com/watch?v=eGv5EAMF8OQ\n",
       "2     https://www.youtube.com/watch?v=Os5Y3RgzU6g\n",
       "3     https://www.youtube.com/watch?v=dyqTwmEPtCQ\n",
       "4     https://www.youtube.com/watch?v=bLa-B4sLfQE\n",
       "5     https://www.youtube.com/watch?v=FMeVyoBS1DM\n",
       "6     https://www.youtube.com/watch?v=_vyf1OiYJjE\n",
       "7     https://www.youtube.com/watch?v=6ouvCZzT0aA\n",
       "8     https://www.youtube.com/watch?v=_WvIeQOPFhU\n",
       "9     https://www.youtube.com/watch?v=Fl-2fER_RV4\n",
       "10    https://www.youtube.com/watch?v=8P71DBF5gF4\n",
       "11    https://www.youtube.com/watch?v=wQ_Zq54yAfk\n",
       "12    https://www.youtube.com/watch?v=3OQl5OY8IeE\n",
       "13    https://www.youtube.com/watch?v=fTAyW9a0NBA\n",
       "14    https://www.youtube.com/watch?v=047mq_HCT6o\n",
       "Name: URL, dtype: object"
      ]
     },
     "execution_count": 5,
     "metadata": {},
     "output_type": "execute_result"
    }
   ],
   "source": [
    "url = input_data['URL']\n",
    "url"
   ]
  },
  {
   "cell_type": "code",
   "execution_count": 6,
   "id": "b50cce89",
   "metadata": {},
   "outputs": [
    {
     "data": {
      "text/plain": [
       "array(['https://www.youtube.com/watch?v=PFqyyIqGNb4',\n",
       "       'https://www.youtube.com/watch?v=eGv5EAMF8OQ',\n",
       "       'https://www.youtube.com/watch?v=Os5Y3RgzU6g',\n",
       "       'https://www.youtube.com/watch?v=dyqTwmEPtCQ',\n",
       "       'https://www.youtube.com/watch?v=bLa-B4sLfQE',\n",
       "       'https://www.youtube.com/watch?v=FMeVyoBS1DM',\n",
       "       'https://www.youtube.com/watch?v=_vyf1OiYJjE',\n",
       "       'https://www.youtube.com/watch?v=6ouvCZzT0aA',\n",
       "       'https://www.youtube.com/watch?v=_WvIeQOPFhU',\n",
       "       'https://www.youtube.com/watch?v=Fl-2fER_RV4',\n",
       "       'https://www.youtube.com/watch?v=8P71DBF5gF4',\n",
       "       'https://www.youtube.com/watch?v=wQ_Zq54yAfk',\n",
       "       'https://www.youtube.com/watch?v=3OQl5OY8IeE',\n",
       "       'https://www.youtube.com/watch?v=fTAyW9a0NBA',\n",
       "       'https://www.youtube.com/watch?v=047mq_HCT6o'], dtype=object)"
      ]
     },
     "execution_count": 6,
     "metadata": {},
     "output_type": "execute_result"
    }
   ],
   "source": [
    "url_val = url.values\n",
    "url_val"
   ]
  },
  {
   "cell_type": "code",
   "execution_count": 7,
   "id": "0ef07675",
   "metadata": {},
   "outputs": [
    {
     "data": {
      "text/plain": [
       "['https://www.youtube.com/watch?v=PFqyyIqGNb4',\n",
       " 'https://www.youtube.com/watch?v=eGv5EAMF8OQ',\n",
       " 'https://www.youtube.com/watch?v=Os5Y3RgzU6g',\n",
       " 'https://www.youtube.com/watch?v=dyqTwmEPtCQ',\n",
       " 'https://www.youtube.com/watch?v=bLa-B4sLfQE',\n",
       " 'https://www.youtube.com/watch?v=FMeVyoBS1DM',\n",
       " 'https://www.youtube.com/watch?v=_vyf1OiYJjE',\n",
       " 'https://www.youtube.com/watch?v=6ouvCZzT0aA',\n",
       " 'https://www.youtube.com/watch?v=_WvIeQOPFhU',\n",
       " 'https://www.youtube.com/watch?v=Fl-2fER_RV4',\n",
       " 'https://www.youtube.com/watch?v=8P71DBF5gF4',\n",
       " 'https://www.youtube.com/watch?v=wQ_Zq54yAfk',\n",
       " 'https://www.youtube.com/watch?v=3OQl5OY8IeE',\n",
       " 'https://www.youtube.com/watch?v=fTAyW9a0NBA',\n",
       " 'https://www.youtube.com/watch?v=047mq_HCT6o']"
      ]
     },
     "execution_count": 7,
     "metadata": {},
     "output_type": "execute_result"
    }
   ],
   "source": [
    "url_list = url_val.tolist()\n",
    "url_list"
   ]
  },
  {
   "cell_type": "code",
   "execution_count": 8,
   "id": "8b3f3867",
   "metadata": {},
   "outputs": [],
   "source": [
    "title_list = []\n",
    "# writer_list = []\n",
    "# subscriber_list = []\n",
    "date_list = []\n",
    "like_list = []\n",
    "view_list = []\n",
    "comment_list = []"
   ]
  },
  {
   "cell_type": "code",
   "execution_count": 75,
   "id": "d72d3fb6",
   "metadata": {
    "scrolled": true
   },
   "outputs": [
    {
     "name": "stdout",
     "output_type": "stream",
     "text": [
      "https://www.youtube.com/watch?v=PFqyyIqGNb4 / "
     ]
    },
    {
     "name": "stderr",
     "output_type": "stream",
     "text": [
      "C:\\Users\\Public\\Documents\\ESTsoft\\CreatorTemp\\ipykernel_15488\\1468853954.py:7: DeprecationWarning: find_element_by_tag_name is deprecated. Please use find_element(by=By.TAG_NAME, value=name) instead\n",
      "  body = driver.find_element_by_tag_name('body')\n",
      "C:\\Users\\Public\\Documents\\ESTsoft\\CreatorTemp\\ipykernel_15488\\1468853954.py:10: DeprecationWarning: find_element_by_css_selector is deprecated. Please use find_element(by=By.CSS_SELECTOR, value=css_selector) instead\n",
      "  info = driver.find_element_by_css_selector('.style-scope ytd-video-primary-info-renderer').text.split('\\n')\n"
     ]
    },
    {
     "name": "stdout",
     "output_type": "stream",
     "text": [
      "https://www.youtube.com/watch?v=eGv5EAMF8OQ / https://www.youtube.com/watch?v=Os5Y3RgzU6g / https://www.youtube.com/watch?v=dyqTwmEPtCQ / https://www.youtube.com/watch?v=bLa-B4sLfQE / https://www.youtube.com/watch?v=FMeVyoBS1DM / https://www.youtube.com/watch?v=_vyf1OiYJjE / https://www.youtube.com/watch?v=6ouvCZzT0aA / "
     ]
    },
    {
     "ename": "NoSuchWindowException",
     "evalue": "Message: no such window: target window already closed\nfrom unknown error: web view not found\n  (Session info: chrome=114.0.5735.199)\nStacktrace:\nBacktrace:\n\tGetHandleVerifier [0x008AA813+48355]\n\t(No symbol) [0x0083C4B1]\n\t(No symbol) [0x00745358]\n\t(No symbol) [0x0072D293]\n\t(No symbol) [0x0078E37B]\n\t(No symbol) [0x0079C473]\n\t(No symbol) [0x0078A536]\n\t(No symbol) [0x007682DC]\n\t(No symbol) [0x007693DD]\n\tGetHandleVerifier [0x00B0AABD+2539405]\n\tGetHandleVerifier [0x00B4A78F+2800735]\n\tGetHandleVerifier [0x00B4456C+2775612]\n\tGetHandleVerifier [0x009351E0+616112]\n\t(No symbol) [0x00845F8C]\n\t(No symbol) [0x00842328]\n\t(No symbol) [0x0084240B]\n\t(No symbol) [0x00834FF7]\n\tBaseThreadInitThunk [0x763C7D59+25]\n\tRtlInitializeExceptionChain [0x76F2B79B+107]\n\tRtlClearBits [0x76F2B71F+191]\n",
     "output_type": "error",
     "traceback": [
      "\u001b[1;31m---------------------------------------------------------------------------\u001b[0m",
      "\u001b[1;31mNoSuchWindowException\u001b[0m                     Traceback (most recent call last)",
      "Cell \u001b[1;32mIn[75], line 7\u001b[0m\n\u001b[0;32m      4\u001b[0m driver\u001b[38;5;241m.\u001b[39mget(start_url)\n\u001b[0;32m      5\u001b[0m driver\u001b[38;5;241m.\u001b[39mimplicitly_wait(\u001b[38;5;241m1.5\u001b[39m)\n\u001b[1;32m----> 7\u001b[0m body \u001b[38;5;241m=\u001b[39m \u001b[43mdriver\u001b[49m\u001b[38;5;241;43m.\u001b[39;49m\u001b[43mfind_element_by_tag_name\u001b[49m\u001b[43m(\u001b[49m\u001b[38;5;124;43m'\u001b[39;49m\u001b[38;5;124;43mbody\u001b[39;49m\u001b[38;5;124;43m'\u001b[39;49m\u001b[43m)\u001b[49m\n\u001b[0;32m      9\u001b[0m \u001b[38;5;28;01mtry\u001b[39;00m:\n\u001b[0;32m     10\u001b[0m     info \u001b[38;5;241m=\u001b[39m driver\u001b[38;5;241m.\u001b[39mfind_element_by_css_selector(\u001b[38;5;124m'\u001b[39m\u001b[38;5;124m.style-scope ytd-video-primary-info-renderer\u001b[39m\u001b[38;5;124m'\u001b[39m)\u001b[38;5;241m.\u001b[39mtext\u001b[38;5;241m.\u001b[39msplit(\u001b[38;5;124m'\u001b[39m\u001b[38;5;130;01m\\n\u001b[39;00m\u001b[38;5;124m'\u001b[39m)\n",
      "File \u001b[1;32m~\\anaconda3\\lib\\site-packages\\selenium\\webdriver\\remote\\webdriver.py:713\u001b[0m, in \u001b[0;36mWebDriver.find_element_by_tag_name\u001b[1;34m(self, name)\u001b[0m\n\u001b[0;32m    691\u001b[0m \u001b[38;5;124;03m\"\"\"\u001b[39;00m\n\u001b[0;32m    692\u001b[0m \u001b[38;5;124;03mFinds an element by tag name.\u001b[39;00m\n\u001b[0;32m    693\u001b[0m \n\u001b[1;32m   (...)\u001b[0m\n\u001b[0;32m    706\u001b[0m \u001b[38;5;124;03m        element = driver.find_element_by_tag_name('h1')\u001b[39;00m\n\u001b[0;32m    707\u001b[0m \u001b[38;5;124;03m\"\"\"\u001b[39;00m\n\u001b[0;32m    708\u001b[0m warnings\u001b[38;5;241m.\u001b[39mwarn(\n\u001b[0;32m    709\u001b[0m     \u001b[38;5;124m\"\u001b[39m\u001b[38;5;124mfind_element_by_tag_name is deprecated. Please use find_element(by=By.TAG_NAME, value=name) instead\u001b[39m\u001b[38;5;124m\"\u001b[39m,\n\u001b[0;32m    710\u001b[0m     \u001b[38;5;167;01mDeprecationWarning\u001b[39;00m,\n\u001b[0;32m    711\u001b[0m     stacklevel\u001b[38;5;241m=\u001b[39m\u001b[38;5;241m2\u001b[39m,\n\u001b[0;32m    712\u001b[0m )\n\u001b[1;32m--> 713\u001b[0m \u001b[38;5;28;01mreturn\u001b[39;00m \u001b[38;5;28;43mself\u001b[39;49m\u001b[38;5;241;43m.\u001b[39;49m\u001b[43mfind_element\u001b[49m\u001b[43m(\u001b[49m\u001b[43mby\u001b[49m\u001b[38;5;241;43m=\u001b[39;49m\u001b[43mBy\u001b[49m\u001b[38;5;241;43m.\u001b[39;49m\u001b[43mTAG_NAME\u001b[49m\u001b[43m,\u001b[49m\u001b[43m \u001b[49m\u001b[43mvalue\u001b[49m\u001b[38;5;241;43m=\u001b[39;49m\u001b[43mname\u001b[49m\u001b[43m)\u001b[49m\n",
      "File \u001b[1;32m~\\anaconda3\\lib\\site-packages\\selenium\\webdriver\\remote\\webdriver.py:1248\u001b[0m, in \u001b[0;36mWebDriver.find_element\u001b[1;34m(self, by, value)\u001b[0m\n\u001b[0;32m   1245\u001b[0m     by \u001b[38;5;241m=\u001b[39m By\u001b[38;5;241m.\u001b[39mCSS_SELECTOR\n\u001b[0;32m   1246\u001b[0m     value \u001b[38;5;241m=\u001b[39m \u001b[38;5;124m'\u001b[39m\u001b[38;5;124m[name=\u001b[39m\u001b[38;5;124m\"\u001b[39m\u001b[38;5;132;01m%s\u001b[39;00m\u001b[38;5;124m\"\u001b[39m\u001b[38;5;124m]\u001b[39m\u001b[38;5;124m'\u001b[39m \u001b[38;5;241m%\u001b[39m value\n\u001b[1;32m-> 1248\u001b[0m \u001b[38;5;28;01mreturn\u001b[39;00m \u001b[38;5;28;43mself\u001b[39;49m\u001b[38;5;241;43m.\u001b[39;49m\u001b[43mexecute\u001b[49m\u001b[43m(\u001b[49m\u001b[43mCommand\u001b[49m\u001b[38;5;241;43m.\u001b[39;49m\u001b[43mFIND_ELEMENT\u001b[49m\u001b[43m,\u001b[49m\u001b[43m \u001b[49m\u001b[43m{\u001b[49m\n\u001b[0;32m   1249\u001b[0m \u001b[43m    \u001b[49m\u001b[38;5;124;43m'\u001b[39;49m\u001b[38;5;124;43musing\u001b[39;49m\u001b[38;5;124;43m'\u001b[39;49m\u001b[43m:\u001b[49m\u001b[43m \u001b[49m\u001b[43mby\u001b[49m\u001b[43m,\u001b[49m\n\u001b[0;32m   1250\u001b[0m \u001b[43m    \u001b[49m\u001b[38;5;124;43m'\u001b[39;49m\u001b[38;5;124;43mvalue\u001b[39;49m\u001b[38;5;124;43m'\u001b[39;49m\u001b[43m:\u001b[49m\u001b[43m \u001b[49m\u001b[43mvalue\u001b[49m\u001b[43m}\u001b[49m\u001b[43m)\u001b[49m[\u001b[38;5;124m'\u001b[39m\u001b[38;5;124mvalue\u001b[39m\u001b[38;5;124m'\u001b[39m]\n",
      "File \u001b[1;32m~\\anaconda3\\lib\\site-packages\\selenium\\webdriver\\remote\\webdriver.py:425\u001b[0m, in \u001b[0;36mWebDriver.execute\u001b[1;34m(self, driver_command, params)\u001b[0m\n\u001b[0;32m    423\u001b[0m response \u001b[38;5;241m=\u001b[39m \u001b[38;5;28mself\u001b[39m\u001b[38;5;241m.\u001b[39mcommand_executor\u001b[38;5;241m.\u001b[39mexecute(driver_command, params)\n\u001b[0;32m    424\u001b[0m \u001b[38;5;28;01mif\u001b[39;00m response:\n\u001b[1;32m--> 425\u001b[0m     \u001b[38;5;28;43mself\u001b[39;49m\u001b[38;5;241;43m.\u001b[39;49m\u001b[43merror_handler\u001b[49m\u001b[38;5;241;43m.\u001b[39;49m\u001b[43mcheck_response\u001b[49m\u001b[43m(\u001b[49m\u001b[43mresponse\u001b[49m\u001b[43m)\u001b[49m\n\u001b[0;32m    426\u001b[0m     response[\u001b[38;5;124m'\u001b[39m\u001b[38;5;124mvalue\u001b[39m\u001b[38;5;124m'\u001b[39m] \u001b[38;5;241m=\u001b[39m \u001b[38;5;28mself\u001b[39m\u001b[38;5;241m.\u001b[39m_unwrap_value(\n\u001b[0;32m    427\u001b[0m         response\u001b[38;5;241m.\u001b[39mget(\u001b[38;5;124m'\u001b[39m\u001b[38;5;124mvalue\u001b[39m\u001b[38;5;124m'\u001b[39m, \u001b[38;5;28;01mNone\u001b[39;00m))\n\u001b[0;32m    428\u001b[0m     \u001b[38;5;28;01mreturn\u001b[39;00m response\n",
      "File \u001b[1;32m~\\anaconda3\\lib\\site-packages\\selenium\\webdriver\\remote\\errorhandler.py:247\u001b[0m, in \u001b[0;36mErrorHandler.check_response\u001b[1;34m(self, response)\u001b[0m\n\u001b[0;32m    245\u001b[0m         alert_text \u001b[38;5;241m=\u001b[39m value[\u001b[38;5;124m'\u001b[39m\u001b[38;5;124malert\u001b[39m\u001b[38;5;124m'\u001b[39m]\u001b[38;5;241m.\u001b[39mget(\u001b[38;5;124m'\u001b[39m\u001b[38;5;124mtext\u001b[39m\u001b[38;5;124m'\u001b[39m)\n\u001b[0;32m    246\u001b[0m     \u001b[38;5;28;01mraise\u001b[39;00m exception_class(message, screen, stacktrace, alert_text)  \u001b[38;5;66;03m# type: ignore[call-arg]  # mypy is not smart enough here\u001b[39;00m\n\u001b[1;32m--> 247\u001b[0m \u001b[38;5;28;01mraise\u001b[39;00m exception_class(message, screen, stacktrace)\n",
      "\u001b[1;31mNoSuchWindowException\u001b[0m: Message: no such window: target window already closed\nfrom unknown error: web view not found\n  (Session info: chrome=114.0.5735.199)\nStacktrace:\nBacktrace:\n\tGetHandleVerifier [0x008AA813+48355]\n\t(No symbol) [0x0083C4B1]\n\t(No symbol) [0x00745358]\n\t(No symbol) [0x0072D293]\n\t(No symbol) [0x0078E37B]\n\t(No symbol) [0x0079C473]\n\t(No symbol) [0x0078A536]\n\t(No symbol) [0x007682DC]\n\t(No symbol) [0x007693DD]\n\tGetHandleVerifier [0x00B0AABD+2539405]\n\tGetHandleVerifier [0x00B4A78F+2800735]\n\tGetHandleVerifier [0x00B4456C+2775612]\n\tGetHandleVerifier [0x009351E0+616112]\n\t(No symbol) [0x00845F8C]\n\t(No symbol) [0x00842328]\n\t(No symbol) [0x0084240B]\n\t(No symbol) [0x00834FF7]\n\tBaseThreadInitThunk [0x763C7D59+25]\n\tRtlInitializeExceptionChain [0x76F2B79B+107]\n\tRtlClearBits [0x76F2B71F+191]\n"
     ]
    }
   ],
   "source": [
    "for i in range(len(url_list)):\n",
    "    start_url = url_list[i]\n",
    "    print(start_url, end = ' / ')\n",
    "    driver.get(start_url)\n",
    "    driver.implicitly_wait(1.5)\n",
    "    \n",
    "    body = driver.find_element_by_tag_name('body')\n",
    "    \n",
    "    try:\n",
    "        info = driver.find_element_by_css_selector('.style-scope ytd-video-primary-info-renderer').text.split('\\n')\n",
    "        \n",
    "        title = info[0]\n",
    "        divide = info[1].replace('조회수 ','').replace(',','').split('회')\n",
    "        view = divide[0]\n",
    "        date = divide[1].replace(' ', '')\n",
    "        like = info[2]\n",
    "        \n",
    "        driver.implicitly_wait(1)\n",
    "        \n",
    "        title_list.append(title)\n",
    "        view_list = append(view)\n",
    "        date_list = append(date)\n",
    "        like_list = append(like)\n",
    "        comment_list = append(comment)\n",
    "        \n",
    "        output_data = {'date': date_list, 'title': title_list, 'view': view_list, 'comment': comment_list, 'like': like_list}\n",
    "        df = pd.DataFrame(output_data)\n",
    "    except:\n",
    "        continue"
   ]
  },
  {
   "cell_type": "code",
   "execution_count": 59,
   "id": "378fde4e",
   "metadata": {},
   "outputs": [
    {
     "data": {
      "text/html": [
       "<div>\n",
       "<style scoped>\n",
       "    .dataframe tbody tr th:only-of-type {\n",
       "        vertical-align: middle;\n",
       "    }\n",
       "\n",
       "    .dataframe tbody tr th {\n",
       "        vertical-align: top;\n",
       "    }\n",
       "\n",
       "    .dataframe thead th {\n",
       "        text-align: right;\n",
       "    }\n",
       "</style>\n",
       "<table border=\"1\" class=\"dataframe\">\n",
       "  <thead>\n",
       "    <tr style=\"text-align: right;\">\n",
       "      <th></th>\n",
       "      <th>URL</th>\n",
       "    </tr>\n",
       "  </thead>\n",
       "  <tbody>\n",
       "    <tr>\n",
       "      <th>0</th>\n",
       "      <td>https://www.youtube.com/watch?v=PFqyyIqGNb4</td>\n",
       "    </tr>\n",
       "  </tbody>\n",
       "</table>\n",
       "</div>"
      ],
      "text/plain": [
       "                                           URL\n",
       "0  https://www.youtube.com/watch?v=PFqyyIqGNb4"
      ]
     },
     "execution_count": 59,
     "metadata": {},
     "output_type": "execute_result"
    }
   ],
   "source": [
    "df"
   ]
  },
  {
   "cell_type": "code",
   "execution_count": 28,
   "id": "22e67162",
   "metadata": {},
   "outputs": [],
   "source": [
    "for URL in URL_list:\n",
    "    # 크롬 드라이버를 통해 지정한 URL의 웹 페이지 오픈\n",
    "    driver.get(URL)\n",
    "    # 웹 페이지 로딩 대기\n",
    "    time.sleep(2)\n",
    "    \n",
    "    # finish line까지 모든 검색 결과 정보 가져오기\n",
    "    # 모든 컨텐츠 관련 부분을 떼어내기\n",
    "    # find_all: 해당 정보의 모든 부분 가져오기\n",
    "    elem = soup.find_all(\"ytd-video-renderer\", attrs={\"class\":'style-scope ytd-item-section-renderer'})\n",
    "    \n",
    "    # 필요한 정보 가져오기\n",
    "    output_data = []\n",
    "    for t in elem:\n",
    "        title = t.find(\"yt-formatted-string\", attrs={\"class\":'style-scope ytd-video-renderer'}).get_text()\n",
    "        name = t.find(\"a\", attrs={\"class\":'yt-simple-endpoint style-scope yt-formatted-string'}).get_text()\n",
    "        content_url = t.find(\"a\", attrs={\"class\":'yt-simple-endpoint style-scope ytd-video-renderer'})[\"href\"]\n",
    "        df.append([title, 'https://www.youtube.com/'+content_url, name])"
   ]
  },
  {
   "cell_type": "code",
   "execution_count": 30,
   "id": "cccb1265",
   "metadata": {},
   "outputs": [
    {
     "data": {
      "text/plain": [
       "[]"
      ]
     },
     "execution_count": 30,
     "metadata": {},
     "output_type": "execute_result"
    }
   ],
   "source": [
    "output_data"
   ]
  },
  {
   "cell_type": "code",
   "execution_count": 120,
   "id": "7ca9eb54",
   "metadata": {},
   "outputs": [],
   "source": [
    "from pandas import DataFrame\n",
    "\n",
    "## 자료 저장\n",
    "# 데이터 프레임 만들기\n",
    "new = pd.DataFrame(columns=['제목', 'URL' , '게시자'])\n",
    "\n",
    "# 자료 집어넣기\n",
    "for i in range(len(output_data)):\n",
    "    new.loc[i] = output_data[i]\n",
    "\n",
    "# 저장하기\n",
    "# 현재 작업폴더 안의 data 폴더에 저장\n",
    "new.to_csv(\"D:\\PJB\\MyDatalab\\Jupyter Notebook\\Output-data/youtube_data.csv\", encoding=\"ms932\", sep=\",\")\n",
    "\n",
    "# 브라우저 닫기\n",
    "driver.close()"
   ]
  },
  {
   "cell_type": "code",
   "execution_count": null,
   "id": "f6371c48",
   "metadata": {},
   "outputs": [],
   "source": []
  }
 ],
 "metadata": {
  "kernelspec": {
   "display_name": "Python 3 (ipykernel)",
   "language": "python",
   "name": "python3"
  },
  "language_info": {
   "codemirror_mode": {
    "name": "ipython",
    "version": 3
   },
   "file_extension": ".py",
   "mimetype": "text/x-python",
   "name": "python",
   "nbconvert_exporter": "python",
   "pygments_lexer": "ipython3",
   "version": "3.10.9"
  }
 },
 "nbformat": 4,
 "nbformat_minor": 5
}
